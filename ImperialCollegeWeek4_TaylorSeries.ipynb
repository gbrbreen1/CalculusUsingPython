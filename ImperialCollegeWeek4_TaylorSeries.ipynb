{
  "nbformat": 4,
  "nbformat_minor": 0,
  "metadata": {
    "kernelspec": {
      "display_name": "Python 3",
      "language": "python",
      "name": "python3"
    },
    "language_info": {
      "codemirror_mode": {
        "name": "ipython",
        "version": 3
      },
      "file_extension": ".py",
      "mimetype": "text/x-python",
      "name": "python",
      "nbconvert_exporter": "python",
      "pygments_lexer": "ipython3",
      "version": "3.6.2"
    },
    "colab": {
      "name": "ImperialCollegeWeek4_TaylorSeries.ipynb",
      "provenance": []
    }
  },
  "cells": [
    {
      "cell_type": "markdown",
      "metadata": {
        "id": "SA_9Jtm5zpxt"
      },
      "source": [
        "\n",
        "<h1 align=center> Calculus: Taylor Series</h1>\n",
        "\n"
      ]
    },
    {
      "cell_type": "markdown",
      "metadata": {
        "id": "VdLwKMAC0IAj"
      },
      "source": [
        "This course is developed by Dr. Mohamed Gabr (gbrbreen2@gmail.com) as an introduction to mathematics for AI. The course focuses on using Python for Calculus using Sympy."
      ]
    },
    {
      "cell_type": "markdown",
      "metadata": {
        "id": "zVuFpfuH7w1i"
      },
      "source": [
        "# introduction to Tylor series:"
      ]
    },
    {
      "cell_type": "markdown",
      "metadata": {
        "id": "4hDGgOE876lK"
      },
      "source": [
        "The Taylor series is one of a family of approaches used for building gradually-improving approximations تقريب to functions. One example that seems to stick in peoples' minds is to do with cooking a chicken. Imagine that you could write a function, which describes the relationship between the mass of a chicken M, and the amount of time T, it should be put in the oven before it will be perfectly cooked. Clearly, there are a lot of assumptions that we'd need to have in place for such a function to even exist. For example, this would only apply to a certain type of oven, preheated to a certain temperature, applied to a certain configuration of chicken i.e. one that's in one piece rather than chopped up. Furthermore, the heat transfer properties of a chicken will almost certainly vary in a highly nonlinear fashion as a function of the mass.\n",
        "\n",
        "t(m,T,OvenFactor,ChickeShapeFactor) = 7.33m**5-72.3m**4+253m**3-368m**2+250m+0.02+OvenFactor+ChickenShapeFactor\n",
        "\n",
        "The point now is how to simplify this big equation so normal people can easily use if they buy our cookbook that has this equation\n",
        "\n",
        "Firstly, we're going to make two assumptions, one about ovens and the other about chickens. Re the oven, let's assume that it's reasonable to suggest that everyone who buys your cookbook will have a sufficiently similar oven such that we can assume that they behave basically the same. \n",
        "\n",
        "Secondly, re the chicken,we assume that everyone will be cooking a sufficiently similar chicken in terms of the heat transfer properties as a function of mass, that you can also assume that these will be the same in each case. This allows us to remove two potentially problematic terms that might themselves have been a function of many other variables\n",
        "\n",
        " بعد قيامنا بتثبيت هذه العوامل نكون قد حييدناها فنقوم بتبسيط المعادلة  بإزالتها منها مما يعطينا المعادلة التالية والتي ما زالت معقدة وكبيرة\n",
        "\n",
        "t(m)= 7.33m**5-72.3m**4+253m**3-368m**2+250m+0.02\n",
        "\n",
        " من هنا نقوم بتمثيل المعادلة بيانيا بين كتلة الدجاجة والوقت\n",
        "\n",
        "considering a typical chicken from a supermarket is about 1.5 kilograms (the point of interest for us), so let's focus here and build a nice straight line approximation of the form y = mx+c. \n",
        "\n",
        "By using the Taylor series approach, it is possible for me to derive (derivate/ differentiate) a function with the same height and slope as one of the  points in my graph.  This line is a fairly reasonable approximation to the function in the region close to the point of interest (1.5 Kg chicken, but as you move further away, the approximation becomes pretty poor.\n",
        "\n",
        " من هنا فالكتاب ليس لمن سيطبخ دجاج أكبر من هذا الحجم بكثير (مثلا 4 كجم) أو أقل منه بكثير وتصبح المعادلة كما يلي للوصوص للوقت التقديري t*\n",
        "\n",
        "t*(m)=50m+15 ==> 50* 1.5+15 =90 minutes  & ig we want to cook a 2kg,we need 115 minutes... and so on\n",
        "\n",
        "What the Taylor series method tells us is that if we know everything about the function at some point, whereby everything, I mean the functions value, its first derivative, second derivative, third derivative etc in one pla e(e.g. x=0) . Then we can use this information to reconstruct the function everywhere else. So, if I know everything about it at one place (e.g. x=0), I also know everything about it everywhere. However, this is only true for a certain type of function that we call well behaved, which means functions that are continuous and that you can differentiate as many times as you want.\n",
        "\n",
        "This means that the main idea is that.... by increasing the power of x to reexpress functions using A constant+x+x**2+x**3+.... so on."
      ]
    },
    {
      "cell_type": "markdown",
      "metadata": {
        "id": "1Df5O0-S9fc6"
      },
      "source": [
        "Taylor series are also referred to as power series. And this is because they are composed of coefficients in front of increasing powers of x. So we can write a simple generalised expression for a power series as:\n",
        "\n",
        "g(x)=a+bx+cx8*2+dx**3+.......\n",
        "\n",
        "When we calculate a Taylor series , we will build up coefficient by coefficient (a,b,c,d,....), where each term that we add improves the approximation. In many cases, we will then be able to notice that there is  a pattern emerge in the coefficients.\n",
        "\n",
        "This pattern which thankfully saves us the trouble of calculating infinitely many coefficients as using the pattern, we can expect any of them. However, many of the applications of Taylor series, involve making use of just the first few terms of the series, in the hope that this will be a good enough approximation for a certain application. Starting from just a single term, we call these expressions the zeroth, first, second, and third order approximations etc. Collectively, these short sections of the series are called Truncated series. \n",
        "\n",
        "g0(x)=a\n",
        "\n",
        "g1(x)=a+bx\n",
        "\n",
        "g2(x)=a+bx+cx**2\n",
        "\n",
        "g3(x)=a+bx+c**2+dx**3\n",
        "\n",
        "g4(x)=a+bx+c**2+dx**3+ex**4 \n",
        "\n",
        " .....so on\n",
        "\n",
        "note that truncated series are not differentiation/ derivatives of the original equation. It is an approximation of it by removing some problematic terms to make the function easier and by increasing the power of x to reexpress functions using\n",
        "\n",
        "A constant+x+x**2+x**3+.... so on"
      ]
    },
    {
      "cell_type": "code",
      "metadata": {
        "colab": {
          "base_uri": "https://localhost:8080/",
          "height": 90
        },
        "id": "dSGd-i1-lsIA",
        "outputId": "a1019dc6-d390-4578-98b3-8439c3f2f08a"
      },
      "source": [
        "# A way for caluclating Taylor approximation (Truncated series)\n",
        "\n",
        "def taylor_approximation(expr, x, max_order):\n",
        "    taylor_series = expr.series(x=x, n=None)\n",
        "    return sum([next(taylor_series) for i in range(max_order)])\n",
        "\n",
        "from sympy import *\n",
        "x=Symbol('x')\n",
        "y=Symbol('y')\n",
        "f=Symbol('f')\n",
        "f=cos(x)\n",
        "taylor_approximation(f,x,15)# note that if we make the max_order=0 the result will be 0. So, we normally use 1 for the zeor order approximation function\n",
        "\n",
        "# note that as cos(x) is a well-behaving function, the approximation level can go endless"
      ],
      "execution_count": 1,
      "outputs": [
        {
          "output_type": "execute_result",
          "data": {
            "text/latex": "$\\displaystyle \\frac{x^{28}}{304888344611713860501504000000} - \\frac{x^{26}}{403291461126605635584000000} + \\frac{x^{24}}{620448401733239439360000} - \\frac{x^{22}}{1124000727777607680000} + \\frac{x^{20}}{2432902008176640000} - \\frac{x^{18}}{6402373705728000} + \\frac{x^{16}}{20922789888000} - \\frac{x^{14}}{87178291200} + \\frac{x^{12}}{479001600} - \\frac{x^{10}}{3628800} + \\frac{x^{8}}{40320} - \\frac{x^{6}}{720} + \\frac{x^{4}}{24} - \\frac{x^{2}}{2} + 1$",
            "text/plain": [
              "x**28/304888344611713860501504000000 - x**26/403291461126605635584000000 + x**24/620448401733239439360000 - x**22/1124000727777607680000 + x**20/2432902008176640000 - x**18/6402373705728000 + x**16/20922789888000 - x**14/87178291200 + x**12/479001600 - x**10/3628800 + x**8/40320 - x**6/720 + x**4/24 - x**2/2 + 1"
            ]
          },
          "metadata": {
            "tags": []
          },
          "execution_count": 1
        }
      ]
    },
    {
      "cell_type": "code",
      "metadata": {
        "colab": {
          "base_uri": "https://localhost:8080/",
          "height": 38
        },
        "id": "5Xt8oY0zlsIC",
        "outputId": "9a4ebc75-6898-464d-b1db-0235887558c0"
      },
      "source": [
        "from sympy import *\n",
        "x=Symbol('x')\n",
        "f=Symbol('f')\n",
        "a=Symbol('a')\n",
        "b=Symbol('b')\n",
        "c=Symbol('c')\n",
        "d=Symbol('d')\n",
        "e=Symbol('e')\n",
        "\n",
        "f=a+b*x+c*x**2+d*x**3+e*x**4+x**5\n",
        "taylor_approximation(f,x,6)# note that if we make the max_order=0 the result will be 0. So, we normally use 1 for the zeor order approximation function\n",
        "\n",
        "# note that the approximation level cannot exceed 6 as the highest power is 5"
      ],
      "execution_count": 2,
      "outputs": [
        {
          "output_type": "execute_result",
          "data": {
            "text/latex": "$\\displaystyle a + b x + c x^{2} + d x^{3} + e x^{4} + x^{5}$",
            "text/plain": [
              "a + b*x + c*x**2 + d*x**3 + e*x**4 + x**5"
            ]
          },
          "metadata": {
            "tags": []
          },
          "execution_count": 2
        }
      ]
    },
    {
      "cell_type": "code",
      "metadata": {
        "colab": {
          "base_uri": "https://localhost:8080/",
          "height": 51
        },
        "id": "To2mvEAZlsIC",
        "outputId": "55c1fc96-1b47-4b63-8bbb-0bd8a45c347d"
      },
      "source": [
        "from sympy import *\n",
        "x=Symbol('x')\n",
        "f=Symbol('f')\n",
        "a=Symbol('a')\n",
        "b=Symbol('b')\n",
        "c=Symbol('c')\n",
        "d=Symbol('d')\n",
        "e=Symbol('e')\n",
        "\n",
        "f=1/x\n",
        "taylor_approximation(f,x,1) # note that we cannot approximate a first level g2 (we know that the zeroth level is g1)"
      ],
      "execution_count": 3,
      "outputs": [
        {
          "output_type": "execute_result",
          "data": {
            "text/latex": "$\\displaystyle \\frac{1}{x}$",
            "text/plain": [
              "1/x"
            ]
          },
          "metadata": {
            "tags": []
          },
          "execution_count": 3
        }
      ]
    },
    {
      "cell_type": "code",
      "metadata": {
        "id": "psku2cC8lsID"
      },
      "source": [
        "# Another way for caluclating Taylor approximation (Truncated series)  ولاحظ أن الكود هنا أكثر دقة من السابقة\n",
        "# لاحظ أيضا أننا لا يمكن أن نحسب التقريب على الكمبيوتر إلا للدوال ذات السلوك الجيد well behaving \n",
        "# for example 1/x is not a well-behaving function\n",
        "\n",
        "# http://firsttimeprogrammer.blogspot.com/2015/03/taylor-series-with-python-and-sympy.html\n",
        "\n",
        "import sympy as sy\n",
        "import numpy as np\n",
        "from sympy.functions import sin,cos\n",
        "import matplotlib.pyplot as plt\n",
        "\n",
        "plt.style.use(\"ggplot\")\n",
        "\n",
        "# Define the variable and the function to approximate\n",
        "x = sy.Symbol('x')\n",
        "f =sin(x)\n",
        "\n",
        "\n",
        "# Factorial function\n",
        "def factorial(n):\n",
        "    if n <= 0:\n",
        "        return 1\n",
        "    else:\n",
        "        return n*factorial(n-1)\n",
        "\n",
        "# Taylor approximation at x0 of the function 'function'\n",
        "def taylor(function,x0,n):\n",
        "    i = 0\n",
        "    p = 0\n",
        "    while i <= n:\n",
        "        p = p + (function.diff(x,i).subs(x,x0))/(factorial(i))*(x-x0)**i\n",
        "        i += 1\n",
        "    return p"
      ],
      "execution_count": 4,
      "outputs": []
    },
    {
      "cell_type": "code",
      "metadata": {
        "colab": {
          "base_uri": "https://localhost:8080/",
          "height": 450
        },
        "id": "j8PXZV6qlsIE",
        "outputId": "7a9a4ffd-3977-4f43-90fd-ee6db3913b63"
      },
      "source": [
        "\n",
        "# Plot results\n",
        "def plot():\n",
        "    x_lims = [-5,5]\n",
        "    x1 = np.linspace(x_lims[0],x_lims[1],800)\n",
        "    y1 = []\n",
        "    \n",
        "    # Approximate up until 10 starting from 1 and using steps of 2 ...... Here we can increase 10 to whatever level we want to approximate to\n",
        "    for j in range(1,10,1):\n",
        "        func = taylor(f,0,j)\n",
        "        print('Taylor expansion at n='+str(j),func)\n",
        "        for k in x1:\n",
        "            y1.append(func.subs(x,k))\n",
        "        plt.plot(x1,y1,label='order '+str(j))\n",
        "        y1 = []\n",
        "    # Plot the function to approximate (sine, in this case)\n",
        "    plt.plot(x1,np.sin(x1),label='sin of x')\n",
        "    plt.xlim(x_lims)\n",
        "    plt.ylim([-5,5])\n",
        "    plt.xlabel('x')\n",
        "    plt.ylabel('y')\n",
        "    plt.legend()\n",
        "    plt.grid(True)\n",
        "    plt.title('Taylor series approximation')\n",
        "    plt.show()\n",
        "\n",
        "plot()"
      ],
      "execution_count": 5,
      "outputs": [
        {
          "output_type": "stream",
          "text": [
            "Taylor expansion at n=1 x\n",
            "Taylor expansion at n=2 x\n",
            "Taylor expansion at n=3 -x**3/6 + x\n",
            "Taylor expansion at n=4 -x**3/6 + x\n",
            "Taylor expansion at n=5 x**5/120 - x**3/6 + x\n",
            "Taylor expansion at n=6 x**5/120 - x**3/6 + x\n",
            "Taylor expansion at n=7 -x**7/5040 + x**5/120 - x**3/6 + x\n",
            "Taylor expansion at n=8 -x**7/5040 + x**5/120 - x**3/6 + x\n",
            "Taylor expansion at n=9 x**9/362880 - x**7/5040 + x**5/120 - x**3/6 + x\n"
          ],
          "name": "stdout"
        },
        {
          "output_type": "display_data",
          "data": {
            "image/png": "[encoded data removed]",
            "text/plain": [
              "<Figure size 432x288 with 1 Axes>"
            ]
          },
          "metadata": {
            "tags": []
          }
        }
      ]
    },
    {
      "cell_type": "code",
      "metadata": {
        "colab": {
          "base_uri": "https://localhost:8080/"
        },
        "id": "cUPoi84elsIG",
        "outputId": "7a824a13-b483-40c5-d6b2-4e48de59043a"
      },
      "source": [
        "# the relation between Taylor series and differentiation ==> Power Series derivation\n",
        "# https://www.youtube.com/watch?v=_JXq1sFyQeY&index=26&list=PL2jykFOD1AWaL4_-bdidPfIWe765jOgfL\n",
        "# to understand, let us start by the mathematical proof of The McLaurian series which says: if you know everything about the \n",
        "# function at x=0, you can reconstruct everything about it everywhere\n",
        "from sympy import *\n",
        "x=Symbol('x')\n",
        "f=Symbol('f')\n",
        "a=Symbol('a')\n",
        "b=Symbol('b')\n",
        "c=Symbol('c')\n",
        "\n",
        "# let us see the  approximation for the below function. using McLaurian approximation for the function means that we should\n",
        "# get the value of the function when x=0 in the zeroth order approximation of McLaurian ==> f(0)=c ==> g0(x)= f(0)\n",
        "# this will be, graphically, a horizontal line at x=0 ==> and as the line is flat, it is not even a function of x\n",
        "f=a*x**2+b*x+c \n",
        "print( 'g0(x)=f(0) equals=  ',taylor_approximation(f,x,1))\n",
        "\n",
        "# let us now find the first order approximation. And here we will use two pieces of information:\n",
        "# the value of the function at x=0 & the value of the gradient(the differentiation) at x=0\n",
        "# g1(x)=f(0)+f'(0)x ==> graphically, this will be a horizontal line but it is a better representation than the revious.\n",
        "# we know f(0). Let us now compute f'(0) for the function then add f(0) to it to get g1(x) =f(0)+f'(0)x ..... and so on\n",
        "print('fdash(0) equals =  ',diff(f,x,1))\n",
        "print('g1(0)= f(0)+fdash(0)= ', taylor_approximation(f,x,1)+diff(f,x,1))\n",
        "\n",
        "print('g2(0) = f(0)+fdash(0)+fdash dash(0)=  ',taylor_approximation(f,x,2))\n",
        "\n",
        "# using the above function, we differentiate the function to the second level and we get f''(0). \n",
        "# at x=0, we know value  f''(0) =2a (as shown below in the results)\n",
        "print('fdash dash(0)=  ',diff(f,x,2))\n",
        "\n",
        "\n",
        "# as we know the value f''(0)=2a ==> a= 2/f''(0) =1/2*a/f''(0)  ==> the coefficint =2a/f''(0) .... using the above function, we differentiate it\n",
        "# to the first level and we get f'(0)\n",
        "# at x=0, we know the value of f'(0)=2ax+b (as shown below in the results). Using x=0 in the resulting derivative, we find that\n",
        "# f'(0)=b\n",
        "print('fdash(0)=  ',diff(f,x,1))\n",
        "\n",
        "# using the above function and using x=0, in it, we find that f(0)=c =====> c= f(0)   Now, we know all the values of the coefficients (a,b,c)\n",
        "# c=f(0)    & b=f'(0)   & a=1/2f''(0)\n",
        "# Now, we can compute the second-order approximation for the function to as g2(x) =f(0)+f'(0)x+1/2f''(0)x**2 =c+bx+cx**2\n",
        "print('g3(0) = f(0)+fdash(0)+fdash dash(0)=  ',taylor_approximation(f,x,3)) # the result is c+bx+cx**2\n",
        "\n",
        "# now we, know the coefficients a,b,c....Noticing that every time we update our approximation the matching region between the approximation\n",
        "# and the original f(x) grows up. let us now find the third order approximation for the function f(x)=ax**3+bx**2+cx+d\n",
        "# notice that, now we know the coefficients a,b,c (from the previous process) as c,d,e where a=b & b=c & c=d \n",
        "# and we don't know the value of the coefficient a now.... by repeating the same process, we find a= f'''(0)/6x**3\n",
        "# and the third-order approximation function becomes  g3(x)=f(0)+f'(0)x+1/2f''(0)x**2+ f'''(0)/6x**3\n",
        "\n",
        "# Now, we reached a way to buils the xth-order approximation and we need to generalize it. We can generalize it as below for each\n",
        "# term ==> g3(x)=f(0)+f'(0)x+1/2f''(0)x**2+ f'''(0)/6x**3\n",
        "# So ====> g3(x)=f(0)/0! + (f'(0)/1!)x + (f''(0)/2!)x**2 + (f'''(0)/3!)x**3 + (f4(0)/4!)x**4 .... we use the factorial, each term is\n",
        "# (fn/n!)x**n\n",
        "# and the approximation can be generalized as mentioned in the video to the \"generalized form of Taylor series expression\""
      ],
      "execution_count": 6,
      "outputs": [
        {
          "output_type": "stream",
          "text": [
            "g0(x)=f(0) equals=   c\n",
            "fdash(0) equals =   2*a*x + b\n",
            "g1(0)= f(0)+fdash(0)=  2*a*x + b + c\n",
            "g2(0) = f(0)+fdash(0)+fdash dash(0)=   b*x + c\n",
            "fdash dash(0)=   2*a\n",
            "fdash(0)=   2*a*x + b\n",
            "g3(0) = f(0)+fdash(0)+fdash dash(0)=   a*x**2 + b*x + c\n"
          ],
          "name": "stdout"
        }
      ]
    },
    {
      "cell_type": "markdown",
      "metadata": {
        "id": "Lygogdln-MPS"
      },
      "source": [
        "while the McLaurian says that : if you know everything about the function at x=0, you can reconstruct everything about it everywhere....... The Taylor says: There is nothing special about x=0 and if you know everything about the function at any point x=p, you can reconstruct everything about it anywhere. and the approximation functions will be:\n",
        "\n",
        "g0(x)=f(p)\n",
        "\n",
        "g1(x)= f(p) + f''(p)(x-p) # note the difference here (than the Mclaurian) is that we put x-p instead of p\n",
        "\n",
        "g2(x)= f(p) + f''(p)(x-p)+f'''(p)/2 (x-p)**2\n",
        "\n",
        "and so on ..... So, in the video, we can see both the McLaurian and the Taylor.\n",
        "https://www.youtube.com/watch?v=f4SaYX1A2vE&index=27&list=PL2jykFOD1AWaL4_-bdidPfIWe765jOgfL\n",
        "\n",
        "we can use the same python logic above to approximate any function."
      ]
    },
    {
      "cell_type": "markdown",
      "metadata": {
        "id": "GGl3R35g-jmz"
      },
      "source": [
        "# the error of function approximation and LINEARISATION"
      ]
    },
    {
      "cell_type": "markdown",
      "metadata": {
        "id": "b0l7aepa-p0j"
      },
      "source": [
        "Here we will reframe The Taylor series to a form that will help us understand the expected error in an approximation. So as we've already seen, we can build up a sequence of gradually improving approximations to functions by adding higher power terms. All I'm going to do now is change the notation of some of the terms. So if we take our first order approximation\n",
        "\n",
        "g1(x)= f(p) + f'(p) (x-p)\n",
        "\n",
        "as an example, what this expression is saying to us is starting from the height f of p, as you move away from p, your corresponding change in height is equal to your distance away from p times the gradient (differentiation) of your function at p.\n",
        "\n",
        "So in a sense, rather than using gradient equals rise over run, we are just rearranging to rise equals gradient times run.\n",
        "\n",
        "gradient = rise/run ==> gradient x run = rise ===> f'(x) x (x-p) = rise\n",
        "\n",
        "You are ultimately going to use your approximation to evaluate the function near p, as you must already know about it at p. So I'm now going to say that our distance from p which we currently call\n",
        "\n",
        "x - p, we will now call \n",
        "\n",
        "delta p ====> x-p= delta p\n",
        "\n",
        "to signify that it  represents a small step size away from p. Or we can also recast x now in terms of p, saying\n",
        "\n",
        "x =  p + delta p\n",
        "\n",
        "So, the first order approximation is: g1( p + delta p)= f(p) + f'(p) (delta p)\n",
        "\n",
        "Finally, it actually is now time to say goodbye to p. As in our first order approximation, everything is actually in terms of p. So all I'm going to do is swap all the p's for x's. As this is the form that people would usually expect to see it in. \n",
        "\n",
        "So, the first order approximation becomes: g1( x + delta x)= f(x) + f'(x) (delta x)\n",
        "\n",
        "this will also affect the \"generalized form of Taylor series expression\" as in the video https://www.youtube.com/watch?v=HNSLDV3LPuU&list=PL2jykFOD1AWaL4_-bdidPfIWe765jOgfL&index=29\n",
        "\n",
        "What I now want to know is, when I use the first order approximation, instead of evaluating the base function, how big should I expect the error to be? to answer this question, we should understand linearization(The process of taking a function and ignoring the terms above delta x )\n",
        " بجعلها تساوي صفر\n",
        "\n",
        "f( x + delta x)= f(x) + f'(x) (delta x)+ 0 (delta x)**2\n"
      ]
    },
    {
      "cell_type": "markdown",
      "metadata": {
        "id": "GrS08q_C_M0y"
      },
      "source": [
        "A function f is even if the graph of f is symmetric with respect to the y-axis. Algebraically, f is even if and only if  f(-x) = f(x) for all x in the domain of f.\n",
        "A function f is odd if the graph of f is symmetric with respect to the origin. Algebraically, f is odd if and only if  f(-x) = -f(x) for all x in the domain of f.\n",
        "\n",
        "http://archives.math.utk.edu/visual.calculus/0/functions.14/index.html"
      ]
    },
    {
      "cell_type": "markdown",
      "metadata": {
        "id": "Y99aLhen_Xi6"
      },
      "source": [
        "We've  seen how Power Series can then be used to give you some indication of the size of the error, that results from using these approximations, which is very useful when applying numerical methods. The last idea that we're going to very briefly look at on this topic is upgrading the Power Series from the one-dimensional version that we've seen so far to its more general multivariate form\n",
        "\n",
        "We won't be working through the multivariate Taylor series derivation in any detail, as all I really want you to take away from this part is what a multidimensional Power Series will look like, both as an equation and in a graph.\n",
        "\n",
        "the equation : f(x + delta x, y + delta y)\n",
        "\n",
        "https://www.youtube.com/watch?v=PEO7LZNzRUY&index=30&list=PL2jykFOD1AWaL4_-bdidPfIWe765jOgfL"
      ]
    }
  ]
}
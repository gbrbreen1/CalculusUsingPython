{
  "nbformat": 4,
  "nbformat_minor": 0,
  "metadata": {
    "kernelspec": {
      "display_name": "Python 3",
      "language": "python",
      "name": "python3"
    },
    "language_info": {
      "codemirror_mode": {
        "name": "ipython",
        "version": 3
      },
      "file_extension": ".py",
      "mimetype": "text/x-python",
      "name": "python",
      "nbconvert_exporter": "python",
      "pygments_lexer": "ipython3",
      "version": "3.6.2"
    },
    "colab": {
      "name": "ImperialCollegeWeek3_NeuralNetworks.ipynb",
      "provenance": []
    }
  },
  "cells": [
    {
      "cell_type": "markdown",
      "metadata": {
        "id": "SA_9Jtm5zpxt"
      },
      "source": [
        "\n",
        "<h1 align=center> Calculus: Neural Networks</h1>\n",
        "\n"
      ]
    },
    {
      "cell_type": "markdown",
      "metadata": {
        "id": "VdLwKMAC0IAj"
      },
      "source": [
        "This course is developed by Dr. Mohamed Gabr (gbrbreen2@gmail.com) as an introduction to mathematics for AI. The course focuses on using Python for Calculus using Sympy."
      ]
    },
    {
      "cell_type": "markdown",
      "metadata": {
        "id": "OCco3WBblanE"
      },
      "source": [
        "A vector-valued function is a function that takes a vector as an input"
      ]
    },
    {
      "cell_type": "code",
      "metadata": {
        "colab": {
          "base_uri": "https://localhost:8080/",
          "height": 89
        },
        "id": "MkdoUBktlDCJ",
        "outputId": "ff23bfd6-a333-41ad-f8d2-9e66b1aa59b2"
      },
      "source": [
        "# For the following functions, calculate the expression df/dt= df/dx* df/dt where x=(x1,x2) & f=x1**2*x2**2+x1*x2 & x1=1-t**2\n",
        "# & x2=1+t**2\n",
        "\n",
        "from sympy import *\n",
        "f=Symbol('f')\n",
        "x1= Symbol('x1')\n",
        "x2=Symbol('x2')\n",
        "u=Symbol('u')\n",
        "u1=Symbol('u1')\n",
        "u2=Symbol('u2')\n",
        "t=Symbol('t')\n",
        "init_printing()\n",
        "\n",
        "# defining a function that takes a vector and outputs a vector\n",
        "f=x1**2*x2**2+x1*x2\n",
        "dfOnDx=Matrix([diff(f,x1),diff(f,x2)])\n",
        "print('df/dx is: ',dfOnDx)\n",
        "\n",
        "\n",
        "x1=1-t**2\n",
        "x2=1+t**2\n",
        "dxOnDt=Matrix([diff(x1,t),diff(x2,t)])\n",
        "print('dx/dt is: ',dxOnDt)\n",
        "\n",
        "myResult=dfOnDx.dot(dxOnDt)\n",
        "print('the result using x1, x2: ',myResult) # this is the calculation of the expression df/dt= df/dx* df/dt where df/dx & df/dt \n",
        "# are  jacobian vecotors..... note, we use x1 and x2 \n",
        "\n",
        "f=x1**2*x2**2+x1*x2\n",
        "simplify(diff(f,t))"
      ],
      "execution_count": 1,
      "outputs": [
        {
          "output_type": "stream",
          "text": [
            "df/dx is:  Matrix([[2*x1*x2**2 + x2], [2*x1**2*x2 + x1]])\n",
            "dx/dt is:  Matrix([[-2*t], [2*t]])\n",
            "the result using x1, x2:  -2*t*(2*x1*x2**2 + x2) + 2*t*(2*x1**2*x2 + x1)\n"
          ],
          "name": "stdout"
        },
        {
          "output_type": "execute_result",
          "data": {
            "image/png": "[encoded data removed]",
            "text/latex": "$\\displaystyle t^{3} \\left(8 t^{4} - 12\\right)$",
            "text/plain": [
              " 3 ⎛   4     ⎞\n",
              "t ⋅⎝8⋅t  - 12⎠"
            ]
          },
          "metadata": {
            "tags": []
          },
          "execution_count": 1
        }
      ]
    },
    {
      "cell_type": "code",
      "metadata": {
        "colab": {
          "base_uri": "https://localhost:8080/",
          "height": 55
        },
        "id": "ue0VnYW5lDCK",
        "outputId": "cab34c59-10fd-4b48-de6a-0dcc3675a627"
      },
      "source": [
        "#  طريقة أخرى للحل بالتعويض المباشر من البداية\n",
        "f=x1**2*x2**2+x1*x2 # لاحظ أننا وضعنا الدالة قريبة من سطر الاشتقاق حتى لا تكون نتيجة الاشتقاق بعد التعويض صفر - رغم أنها معرفة أعلاه\n",
        "print('the result using t is  :  ',simplify(diff(f,t)))\n",
        "simplify(diff(f.subs([(x1,1-t**2),(x2,1+t**2)]),t)) # the result using t can be done using the substitution way"
      ],
      "execution_count": 2,
      "outputs": [
        {
          "output_type": "stream",
          "text": [
            "the result using t is  :   t**3*(8*t**4 - 12)\n"
          ],
          "name": "stdout"
        },
        {
          "output_type": "execute_result",
          "data": {
            "image/png": "[encoded data removed]",
            "text/latex": "$\\displaystyle t^{3} \\left(8 t^{4} - 12\\right)$",
            "text/plain": [
              " 3 ⎛   4     ⎞\n",
              "t ⋅⎝8⋅t  - 12⎠"
            ]
          },
          "metadata": {
            "tags": []
          },
          "execution_count": 2
        }
      ]
    },
    {
      "cell_type": "code",
      "metadata": {
        "colab": {
          "base_uri": "https://localhost:8080/"
        },
        "id": "S-hYj9_ilDCL",
        "outputId": "30bae1a3-e080-41f2-c34d-14656d5e341e"
      },
      "source": [
        "# another example\n",
        "\n",
        "# For the following functions, calculate the expression f'(x(u(t)))=df/dt= df/dx* dx/du* du/dt where x=(x1,x2) & u=(u1,u2) & \n",
        "# f=x1**2-*x2**2 & x1=2u1+3u2 & x2=2u1-3u2 & u1=cos(t/2) & u2= sin(2t)\n",
        "\n",
        "from sympy import *\n",
        "import numpy as np\n",
        "\n",
        "f=Symbol('f')\n",
        "x1= Symbol('x1')\n",
        "x2=Symbol('x2')\n",
        "u=Symbol('u')\n",
        "u1=Symbol('u1')\n",
        "u2=Symbol('u2')\n",
        "t=Symbol('t')\n",
        "init_printing()\n",
        "\n",
        "f=x1**2-x2**2\n",
        "print('df/dx is:  ', Matrix([diff(f,x1),diff(f,x2)]))\n",
        "dfOnDx=Matrix([diff(f,x1),diff(f,x2)])\n",
        "x1=2*u1+3*u2\n",
        "x2=2*u1-3*u2\n",
        "print('dx/du is:  ', Matrix([[diff(x1,u1),diff(x1,u2)],[diff(x2,u1),diff(x2,u2)]]))\n",
        "dxOnDu=Matrix([[diff(x1,u1),diff(x1,u2)],[diff(x2,u1),diff(x2,u2)]])\n",
        "u1=cos(t/2)\n",
        "u2=sin(2*t)\n",
        "print('du/dt is:  ', Matrix([diff(u1,t),diff(u2,t)]))\n",
        "duOnDt=Matrix([diff(u1,t),diff(u2,t)])\n",
        "\n",
        "# Now, we should convert the sympy matrix to numpy array so we can get the product\n",
        "dfOnDxTranspose=np.array(dfOnDx.tolist()).transpose() # This vector is Jacobian. So, we transpose the first to be a row vector before further usage\n",
        "dxOnDuNumpy=np.array(dxOnDu.tolist())\n",
        "duOnDtNumpy=np.array(duOnDt.tolist())\n",
        "\n",
        "first2=dfOnDxTranspose.dot(dxOnDuNumpy)\n",
        "print('the result is:   ',first2.dot(duOnDtNumpy))\n",
        "print('the result is:   ',(dfOnDxTranspose.dot(dxOnDuNumpy)).dot(duOnDtNumpy))"
      ],
      "execution_count": 3,
      "outputs": [
        {
          "output_type": "stream",
          "text": [
            "df/dx is:   Matrix([[2*x1], [-2*x2]])\n",
            "dx/du is:   Matrix([[2, 3], [2, -3]])\n",
            "du/dt is:   Matrix([[-sin(t/2)/2], [2*cos(2*t)]])\n",
            "the result is:    [[-(4*x1 - 4*x2)*sin(t/2)/2 + 2*(6*x1 + 6*x2)*cos(2*t)]]\n",
            "the result is:    [[-(4*x1 - 4*x2)*sin(t/2)/2 + 2*(6*x1 + 6*x2)*cos(2*t)]]\n"
          ],
          "name": "stdout"
        }
      ]
    },
    {
      "cell_type": "code",
      "metadata": {
        "colab": {
          "base_uri": "https://localhost:8080/"
        },
        "id": "iIeCqTkzlDCM",
        "outputId": "c9d3d3f3-6636-4077-c7a0-4e52bc21f364"
      },
      "source": [
        "print(simplify(diff(x1**2-x2**2,t)))\n",
        "print(simplify(diff(f,t)))\n",
        "# لاحظ هنا أن النتيجة صفر سواء عوضنا بالمعادلة أو بالرمز والسؤال.... كيف يمكننا حل هذا؟؟؟"
      ],
      "execution_count": 4,
      "outputs": [
        {
          "output_type": "stream",
          "text": [
            "0\n",
            "0\n"
          ],
          "name": "stdout"
        }
      ]
    }
  ]
}
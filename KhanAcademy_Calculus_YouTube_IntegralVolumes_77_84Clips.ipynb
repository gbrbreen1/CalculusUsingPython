{
  "nbformat": 4,
  "nbformat_minor": 0,
  "metadata": {
    "kernelspec": {
      "display_name": "Python 3",
      "language": "python",
      "name": "python3"
    },
    "language_info": {
      "codemirror_mode": {
        "name": "ipython",
        "version": 3
      },
      "file_extension": ".py",
      "mimetype": "text/x-python",
      "name": "python",
      "nbconvert_exporter": "python",
      "pygments_lexer": "ipython3",
      "version": "3.6.2"
    },
    "colab": {
      "name": "KhanAcademy_Calculus_YouTube_IntegralVolumes_77-84Clips.ipynb",
      "provenance": []
    }
  },
  "cells": [
    {
      "cell_type": "markdown",
      "metadata": {
        "id": "SA_9Jtm5zpxt"
      },
      "source": [
        "\n",
        "<h1 align=center> Calculus: Integral Volumes</h1>\n",
        "\n"
      ]
    },
    {
      "cell_type": "markdown",
      "metadata": {
        "id": "VdLwKMAC0IAj"
      },
      "source": [
        "This course is developed by Dr. Mohamed Gabr (gbrbreen2@gmail.com) as an introduction to mathematics for AI. The course focuses on using Python for Calculus using Sympy."
      ]
    },
    {
      "cell_type": "markdown",
      "metadata": {
        "id": "wJnhzGzHM7_a"
      },
      "source": [
        "# Volumes and solid of revolution"
      ]
    },
    {
      "cell_type": "code",
      "metadata": {
        "collapsed": true,
        "id": "1-sVl26LM7_b"
      },
      "source": [
        "# https://www.youtube.com/watch?v=R_aqSL-q6_8&index=77&list=PL19E79A0638C8D449\n",
        "# the volume of any shape = Area of the base * height\n"
      ],
      "execution_count": 1,
      "outputs": []
    },
    {
      "cell_type": "code",
      "metadata": {
        "colab": {
          "base_uri": "https://localhost:8080/",
          "height": 364
        },
        "id": "z7x9AEYWM7_c",
        "outputId": "80dd9cba-3f1e-46d9-ecc2-650edb4a7afe"
      },
      "source": [
        "from sympy import *\n",
        "x=Symbol('x')\n",
        "fDash=Symbol('fDash')\n",
        "init_printing()\n",
        "fDash=x**0.5\n",
        "plot(fDash,(x,-4,4), (x,-20,20), ylabel='f(x)', ylim=(-5, 5))\n",
        "\n",
        "# first, we get the area of the base (suppose the base is a circle so the area is pi*r**2 where the radius is f(x) .....fDash here)\n",
        "# Area Pi*(f(x)**2) ==>  لاحظ أنه يتم  كبس المساحات كرقائق لتكوين حجم على المنحنى المتغير بافتراض دوران الدالة حول محور س لتكوين شكل ثلاثي الأبعاد\n",
        "print('The area of the circle at point 2 is:  ',N((fDash.subs(x,2))**2*pi))\n",
        "\n",
        "# then find the height of the form (the height is already known and can be calculated easily as it is the distance between points a,b)\n",
        "# let us say that a=2, b=10 ===> the height =8\n",
        "print('The height is:  ',float(10-2))\n",
        "\n",
        "# Now we find the volume between x=2 and x=10\n",
        "print('The volume is :  ',integrate((fDash**2)*pi,(x,2,10)))"
      ],
      "execution_count": 2,
      "outputs": [
        {
          "output_type": "stream",
          "text": [
            "<string>:1: RuntimeWarning: invalid value encountered in double_scalars\n"
          ],
          "name": "stderr"
        },
        {
          "output_type": "display_data",
          "data": {
            "image/png": "[encoded data removed]",
            "text/plain": [
              "<Figure size 432x288 with 1 Axes>"
            ]
          },
          "metadata": {
            "tags": [],
            "needs_background": "light"
          }
        },
        {
          "output_type": "stream",
          "text": [
            "The area of the circle at point 2 is:   6.28318530717959\n",
            "The height is:   8.0\n",
            "The volume is :   48.0*pi\n"
          ],
          "name": "stdout"
        }
      ]
    },
    {
      "cell_type": "code",
      "metadata": {
        "colab": {
          "base_uri": "https://localhost:8080/"
        },
        "id": "81DNNOyaM7_e",
        "outputId": "4f375769-f5a7-4128-b4b6-64b7419d8638"
      },
      "source": [
        "# Now we find the volume between x=0 and x=11\n",
        "print('The volume is :  ',integrate((fDash**2)*pi,(x,0,1)))"
      ],
      "execution_count": 3,
      "outputs": [
        {
          "output_type": "stream",
          "text": [
            "The volume is :   0.5*pi\n"
          ],
          "name": "stdout"
        }
      ]
    }
  ]
}
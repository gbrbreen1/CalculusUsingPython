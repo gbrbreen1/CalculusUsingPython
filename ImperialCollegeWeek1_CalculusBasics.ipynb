{
  "nbformat": 4,
  "nbformat_minor": 0,
  "metadata": {
    "colab": {
      "name": "ImperialCollegeWeek1_CalculusBasics.ipynb",
      "provenance": [],
      "authorship_tag": "ABX9TyOZyPWFHx6o7uSmhXLkrMAJ"
    },
    "kernelspec": {
      "name": "python3",
      "display_name": "Python 3"
    },
    "language_info": {
      "name": "python"
    }
  },
  "cells": [
    {
      "cell_type": "markdown",
      "metadata": {
        "id": "SA_9Jtm5zpxt"
      },
      "source": [
        "\n",
        "<h1 align=center> Calculus: Basics</h1>\n",
        "\n"
      ]
    },
    {
      "cell_type": "markdown",
      "metadata": {
        "id": "VdLwKMAC0IAj"
      },
      "source": [
        "This course is developed by Dr. Mohamed Gabr (gbrbreen2@gmail.com) as an introduction to mathematics for AI. The course focuses on using Python for Calculus using Sympy."
      ]
    },
    {
      "cell_type": "code",
      "metadata": {
        "colab": {
          "base_uri": "https://localhost:8080/"
        },
        "id": "Tx8y5UH1n41s",
        "outputId": "93542ce5-c42f-4108-c97e-c50324f78e12"
      },
      "source": [
        "from sympy import *\n",
        "\n",
        "from sympy import plot\n",
        "\n",
        "init_printing()\n",
        "x=Symbol('x')\n",
        "print(diff(x**3+(x**2)/3+3,x))"
      ],
      "execution_count": 1,
      "outputs": [
        {
          "output_type": "stream",
          "text": [
            "3*x**2 + 2*x/3\n"
          ],
          "name": "stdout"
        }
      ]
    },
    {
      "cell_type": "code",
      "metadata": {
        "colab": {
          "base_uri": "https://localhost:8080/",
          "height": 296
        },
        "id": "vso7nTkAn41s",
        "outputId": "2e176527-acc0-4466-9b28-186d77555c94"
      },
      "source": [
        "myPlot= plot((x**3+(x**2)/3+3,(x,-1, 10)), (diff(x**3+(x**2)/3+3,x),(x,0, 10)), show=False)\n",
        "myPlot[0].line_color = 'red'# the color of the original function\n",
        "myPlot[1].line_color = 'green'# the color of the first-level differential/derivative of the original function\n",
        "myPlot.show()"
      ],
      "execution_count": 2,
      "outputs": [
        {
          "output_type": "display_data",
          "data": {
            "image/png": "[encoded data removed]",
            "text/plain": [
              "<Figure size 432x288 with 1 Axes>"
            ]
          },
          "metadata": {
            "tags": [],
            "needs_background": "light"
          }
        }
      ]
    },
    {
      "cell_type": "code",
      "metadata": {
        "colab": {
          "base_uri": "https://localhost:8080/"
        },
        "id": "8kA4uTwnn41s",
        "outputId": "eb663ff7-bd63-47c9-ed08-3cc1d8f7c397"
      },
      "source": [
        "# using integral calculus to get the original equation before differentiation\n",
        "print(integrate(((3*pi*x**4)/4)+(11*(x**2))+(2**.5),x))"
      ],
      "execution_count": 3,
      "outputs": [
        {
          "output_type": "stream",
          "text": [
            "0.15*pi*x**5 + 3.66666666666667*x**3 + 1.4142135623731*x\n"
          ],
          "name": "stdout"
        }
      ]
    },
    {
      "cell_type": "code",
      "metadata": {
        "colab": {
          "base_uri": "https://localhost:8080/"
        },
        "id": "OoXbuo3rn41s",
        "outputId": "2b23abad-bda8-4e5f-a925-1d82ee0e71fe"
      },
      "source": [
        "print(diff(x**3+x**2/3+3,x))"
      ],
      "execution_count": 4,
      "outputs": [
        {
          "output_type": "stream",
          "text": [
            "3*x**2 + 2*x/3\n"
          ],
          "name": "stdout"
        }
      ]
    },
    {
      "cell_type": "code",
      "metadata": {
        "colab": {
          "base_uri": "https://localhost:8080/",
          "height": 51
        },
        "id": "Ihi8qgHIn41s",
        "outputId": "affc6c91-7533-4980-d906-2b8fa22f75a5"
      },
      "source": [
        "# evaluate the expression/ the function at a specific point x=5\n",
        "expr=3*x**2 + 2*x/3\n",
        "expr.subs(x,5)"
      ],
      "execution_count": 5,
      "outputs": [
        {
          "output_type": "execute_result",
          "data": {
            "image/png": "[encoded data removed]",
            "text/latex": "$\\displaystyle \\frac{235}{3}$",
            "text/plain": [
              "235/3"
            ]
          },
          "metadata": {
            "tags": []
          },
          "execution_count": 5
        }
      ]
    },
    {
      "cell_type": "code",
      "metadata": {
        "colab": {
          "base_uri": "https://localhost:8080/"
        },
        "id": "TIgTlBrNn41t",
        "outputId": "5da178cb-4810-48e4-8d73-2f1d03448719"
      },
      "source": [
        "print(diff(x**3+27*x**2-5*x+9,x))"
      ],
      "execution_count": 6,
      "outputs": [
        {
          "output_type": "stream",
          "text": [
            "3*x**2 + 54*x - 5\n"
          ],
          "name": "stdout"
        }
      ]
    },
    {
      "cell_type": "code",
      "metadata": {
        "colab": {
          "base_uri": "https://localhost:8080/",
          "height": 314
        },
        "id": "wBEdKFnrn41t",
        "outputId": "70fe951b-de9d-4151-f225-68c11d6bbfd3"
      },
      "source": [
        "plot(diff(x**3+27*x**2-5*x+9,x), (x,0, 10), ylabel='Speed')"
      ],
      "execution_count": 7,
      "outputs": [
        {
          "output_type": "display_data",
          "data": {
            "image/png": "[encoded data removed]",
            "text/plain": [
              "<Figure size 432x288 with 1 Axes>"
            ]
          },
          "metadata": {
            "tags": [],
            "needs_background": "light"
          }
        },
        {
          "output_type": "execute_result",
          "data": {
            "text/plain": [
              "<sympy.plotting.plot.Plot at 0x7f5deb274b10>"
            ]
          },
          "metadata": {
            "tags": []
          },
          "execution_count": 7
        }
      ]
    },
    {
      "cell_type": "code",
      "metadata": {
        "collapsed": true,
        "id": "w-dblM9Zn41t"
      },
      "source": [
        "# the sum rule\n"
      ],
      "execution_count": 8,
      "outputs": []
    },
    {
      "cell_type": "markdown",
      "metadata": {
        "id": "vElDkZ4peQyg"
      },
      "source": [
        "## The power rule:\n",
        "\n",
        "For example, if we take the function f of x equals ax to the power of b, and substitute it into our differentiation expression, we will find that the derivative is always f dash of x equals abx to the power of b minus 1. The original power gets multiplied by the front and then the new power is just one less than it was before.\n",
        "\n",
        "f(x)=ax(raised to the power of b) ==>f'(x)= abx(raised to power b-1)"
      ]
    },
    {
      "cell_type": "code",
      "metadata": {
        "colab": {
          "base_uri": "https://localhost:8080/",
          "height": 38
        },
        "id": "HbfZaBtln41t",
        "outputId": "629256b2-f007-4ff2-cbc3-bced4054aeb6"
      },
      "source": [
        "|diff(10*x**10,x)"
      ],
      "execution_count": 10,
      "outputs": [
        {
          "output_type": "execute_result",
          "data": {
            "image/png": "[encoded data removed]",
            "text/latex": "$\\displaystyle 100 x^{9}$",
            "text/plain": [
              "     9\n",
              "100⋅x "
            ]
          },
          "metadata": {
            "tags": []
          },
          "execution_count": 10
        }
      ]
    },
    {
      "cell_type": "code",
      "metadata": {
        "colab": {
          "base_uri": "https://localhost:8080/",
          "height": 314
        },
        "id": "WTtnlLlwn41t",
        "outputId": "1f97a648-2ca0-4058-8551-835d5aa2cbfb"
      },
      "source": [
        "plot(10*x**10, (x,0, 10), ylabel='Speed')"
      ],
      "execution_count": 11,
      "outputs": [
        {
          "output_type": "display_data",
          "data": {
            "image/png": "[encoded data removed]",
            "text/plain": [
              "<Figure size 432x288 with 1 Axes>"
            ]
          },
          "metadata": {
            "tags": [],
            "needs_background": "light"
          }
        },
        {
          "output_type": "execute_result",
          "data": {
            "text/plain": [
              "<sympy.plotting.plot.Plot at 0x7f5deafee210>"
            ]
          },
          "metadata": {
            "tags": []
          },
          "execution_count": 11
        }
      ]
    },
    {
      "cell_type": "markdown",
      "metadata": {
        "id": "Lbc4q5X2egoW"
      },
      "source": [
        "## The product rule:\n",
        "\n",
        "If A(x)=f(x)g(x) then\n",
        "\n",
        "The derivative of A(x) is just f(x) g'(x) + g(x) f'(x)   ==> A'(x)=f(x) g'(x) + g(x) f'(x)\n",
        "\n",
        "If we want to differentiate the product of two functions, f(x) and g(x), we simply find the sum of f(x) g'(x), and g(x), f'(x). "
      ]
    },
    {
      "cell_type": "code",
      "metadata": {
        "colab": {
          "base_uri": "https://localhost:8080/"
        },
        "id": "pHXqmf33n41u",
        "outputId": "52ff204b-a597-4df3-cca2-b11e2818ec61"
      },
      "source": [
        "f=x+2\n",
        "g=3*x-3\n",
        "print(diff(f,x))\n",
        "print(diff(g,x))\n",
        "print('##########')\n",
        "print(expand((x+2)*(3*x-3)))\n",
        "print('############')\n",
        "print(diff(f*g,x))\n",
        "print(diff((expand((x+2)*(3*x-3))),x))\n"
      ],
      "execution_count": 13,
      "outputs": [
        {
          "output_type": "stream",
          "text": [
            "1\n",
            "3\n",
            "##########\n",
            "3*x**2 + 3*x - 6\n",
            "############\n",
            "6*x + 3\n",
            "6*x + 3\n"
          ],
          "name": "stdout"
        }
      ]
    },
    {
      "cell_type": "code",
      "metadata": {
        "colab": {
          "base_uri": "https://localhost:8080/",
          "height": 38
        },
        "id": "0p0qpEwXn41u",
        "outputId": "03463331-ad0f-4b0d-a861-80e17549cb2a"
      },
      "source": [
        "# Quiz\n",
        "e=Symbol('e')\n",
        "init_printing()\n",
        "\n",
        "diff(expand((e**x)*(x**2+7*x-3-sin(x))),x)\n"
      ],
      "execution_count": 14,
      "outputs": [
        {
          "output_type": "execute_result",
          "data": {
            "image/png": "[encoded data removed]",
            "text/latex": "$\\displaystyle e^{x} x^{2} \\log{\\left(e \\right)} + 7 e^{x} x \\log{\\left(e \\right)} + 2 e^{x} x - e^{x} \\log{\\left(e \\right)} \\sin{\\left(x \\right)} - 3 e^{x} \\log{\\left(e \\right)} - e^{x} \\cos{\\left(x \\right)} + 7 e^{x}$",
            "text/plain": [
              " x  2             x               x      x                    x           x   \n",
              "e ⋅x ⋅log(e) + 7⋅e ⋅x⋅log(e) + 2⋅e ⋅x - e ⋅log(e)⋅sin(x) - 3⋅e ⋅log(e) - e ⋅co\n",
              "\n",
              "          x\n",
              "s(x) + 7⋅e "
            ]
          },
          "metadata": {
            "tags": []
          },
          "execution_count": 14
        }
      ]
    },
    {
      "cell_type": "code",
      "metadata": {
        "colab": {
          "base_uri": "https://localhost:8080/",
          "height": 38
        },
        "id": "E03ZgqT9n41u",
        "outputId": "a900ceab-46d9-4a12-ea69-314ed8e75dcc"
      },
      "source": [
        "init_printing()\n",
        "simplify(diff(expand((e**x)*(x**2+7*x-3-sin(x))),x))"
      ],
      "execution_count": 15,
      "outputs": [
        {
          "output_type": "execute_result",
          "data": {
            "image/png": "[encoded data removed]",
            "text/latex": "$\\displaystyle e^{x} \\left(x^{2} \\log{\\left(e \\right)} + 7 x \\log{\\left(e \\right)} + 2 x - \\log{\\left(e \\right)} \\sin{\\left(x \\right)} - 3 \\log{\\left(e \\right)} - \\cos{\\left(x \\right)} + 7\\right)$",
            "text/plain": [
              " x ⎛ 2                                                                  ⎞\n",
              "e ⋅⎝x ⋅log(e) + 7⋅x⋅log(e) + 2⋅x - log(e)⋅sin(x) - 3⋅log(e) - cos(x) + 7⎠"
            ]
          },
          "metadata": {
            "tags": []
          },
          "execution_count": 15
        }
      ]
    },
    {
      "cell_type": "code",
      "metadata": {
        "colab": {
          "base_uri": "https://localhost:8080/",
          "height": 38
        },
        "id": "j7TvP7Gyn41u",
        "outputId": "3038718e-edc4-41d3-8a0a-f8696d9d2b34"
      },
      "source": [
        "# Quiz \n",
        "expand((x**2-2*x+5)*(sin(x)+cos(x)))"
      ],
      "execution_count": 16,
      "outputs": [
        {
          "output_type": "execute_result",
          "data": {
            "image/png": "[encoded data removed]",
            "text/latex": "$\\displaystyle x^{2} \\sin{\\left(x \\right)} + x^{2} \\cos{\\left(x \\right)} - 2 x \\sin{\\left(x \\right)} - 2 x \\cos{\\left(x \\right)} + 5 \\sin{\\left(x \\right)} + 5 \\cos{\\left(x \\right)}$",
            "text/plain": [
              " 2           2                                                       \n",
              "x ⋅sin(x) + x ⋅cos(x) - 2⋅x⋅sin(x) - 2⋅x⋅cos(x) + 5⋅sin(x) + 5⋅cos(x)"
            ]
          },
          "metadata": {
            "tags": []
          },
          "execution_count": 16
        }
      ]
    },
    {
      "cell_type": "code",
      "metadata": {
        "colab": {
          "base_uri": "https://localhost:8080/",
          "height": 38
        },
        "id": "hEKAPdB1n41u",
        "outputId": "41ebd3b0-accd-413b-9214-8ffeaf545a67"
      },
      "source": [
        "diff(expand((x**2-2*x+5)*(sin(x)+cos(x))),x)"
      ],
      "execution_count": 17,
      "outputs": [
        {
          "output_type": "execute_result",
          "data": {
            "image/png": "[encoded data removed]",
            "text/latex": "$\\displaystyle - x^{2} \\sin{\\left(x \\right)} + x^{2} \\cos{\\left(x \\right)} + 4 x \\sin{\\left(x \\right)} - 7 \\sin{\\left(x \\right)} + 3 \\cos{\\left(x \\right)}$",
            "text/plain": [
              "   2           2                                          \n",
              "- x ⋅sin(x) + x ⋅cos(x) + 4⋅x⋅sin(x) - 7⋅sin(x) + 3⋅cos(x)"
            ]
          },
          "metadata": {
            "tags": []
          },
          "execution_count": 17
        }
      ]
    },
    {
      "cell_type": "code",
      "metadata": {
        "colab": {
          "base_uri": "https://localhost:8080/",
          "height": 38
        },
        "id": "3-DsrBwvn41v",
        "outputId": "60f17357-062f-4d4c-ece8-57dd00e57723"
      },
      "source": [
        "# Quiz\n",
        "expand(e**x*(3*x-2)*sin(x))"
      ],
      "execution_count": 18,
      "outputs": [
        {
          "output_type": "execute_result",
          "data": {
            "image/png": "[encoded data removed]",
            "text/latex": "$\\displaystyle 3 e^{x} x \\sin{\\left(x \\right)} - 2 e^{x} \\sin{\\left(x \\right)}$",
            "text/plain": [
              "   x               x       \n",
              "3⋅e ⋅x⋅sin(x) - 2⋅e ⋅sin(x)"
            ]
          },
          "metadata": {
            "tags": []
          },
          "execution_count": 18
        }
      ]
    },
    {
      "cell_type": "code",
      "metadata": {
        "colab": {
          "base_uri": "https://localhost:8080/",
          "height": 38
        },
        "id": "jC1QUx-jn41v",
        "outputId": "dc91c475-15a2-4123-9a5b-cfc5f500ba08"
      },
      "source": [
        "diff(expand(e**x*(3*x-2)*sin(x)),x)"
      ],
      "execution_count": 19,
      "outputs": [
        {
          "output_type": "execute_result",
          "data": {
            "image/png": "[encoded data removed]",
            "text/latex": "$\\displaystyle 3 e^{x} x \\log{\\left(e \\right)} \\sin{\\left(x \\right)} + 3 e^{x} x \\cos{\\left(x \\right)} - 2 e^{x} \\log{\\left(e \\right)} \\sin{\\left(x \\right)} + 3 e^{x} \\sin{\\left(x \\right)} - 2 e^{x} \\cos{\\left(x \\right)}$",
            "text/plain": [
              "   x                      x               x                    x             x\n",
              "3⋅e ⋅x⋅log(e)⋅sin(x) + 3⋅e ⋅x⋅cos(x) - 2⋅e ⋅log(e)⋅sin(x) + 3⋅e ⋅sin(x) - 2⋅e \n",
              "\n",
              "       \n",
              "⋅cos(x)"
            ]
          },
          "metadata": {
            "tags": []
          },
          "execution_count": 19
        }
      ]
    },
    {
      "cell_type": "code",
      "metadata": {
        "colab": {
          "base_uri": "https://localhost:8080/",
          "height": 38
        },
        "id": "VmknVDjsn41v",
        "outputId": "b457fac4-04e0-4c22-fd26-5059400125c6"
      },
      "source": [
        "simplify(diff(expand(e**x*(3*x-2)*sin(x)),x))"
      ],
      "execution_count": 20,
      "outputs": [
        {
          "output_type": "execute_result",
          "data": {
            "image/png": "[encoded data removed]",
            "text/latex": "$\\displaystyle e^{x} \\left(3 x \\log{\\left(e \\right)} \\sin{\\left(x \\right)} + 3 x \\cos{\\left(x \\right)} - 2 \\log{\\left(e \\right)} \\sin{\\left(x \\right)} + 3 \\sin{\\left(x \\right)} - 2 \\cos{\\left(x \\right)}\\right)$",
            "text/plain": [
              " x                                                                         \n",
              "e ⋅(3⋅x⋅log(e)⋅sin(x) + 3⋅x⋅cos(x) - 2⋅log(e)⋅sin(x) + 3⋅sin(x) - 2⋅cos(x))"
            ]
          },
          "metadata": {
            "tags": []
          },
          "execution_count": 20
        }
      ]
    },
    {
      "cell_type": "markdown",
      "metadata": {
        "id": "wkMLr7TwfHdb"
      },
      "source": [
        "## The chain rule:\n",
        "\n",
        "It is called chain rule because in a sense we are making a chain of relationships\n",
        "\n",
        "h=h(p) & p=p(m)\n",
        "\n",
        "Sometimes, we use functions as the inputs of other functions. Consider the nested function h of p of m ==> h(p(m)). We have the function h, which is describing how happy I am, as a function of p, how many pizzas I've eaten that day. Then, the pizzas I get to eat per day is itself a function of m, which is how much money I make. So, we're still ultimately relating money to happiness, but via the concept of pizza.\n",
        "\n",
        "This nested function scenario comes up a whole lot in science and engineering, as you relate chains of concepts together."
      ]
    },
    {
      "cell_type": "code",
      "metadata": {
        "colab": {
          "base_uri": "https://localhost:8080/",
          "height": 70
        },
        "id": "Sx5jEgYdn41v",
        "outputId": "a1d27fb0-9bc3-4a8d-844f-260d7ead9f07"
      },
      "source": [
        "# https://mathinsight.org/chain_rule_simple_examples\n",
        "\n",
        "#  f(x)=6x+3 and g(x)=−2x+5. Use the chain rule to calculate h′(x), where h(x)=f(g(x)).\n",
        "# من هنا يمكننا التعويض بالمعادلة الثانية في الأولى\n",
        "# Solution: The derivatives of f and g are\n",
        "# f′(x)=6\n",
        "print(diff(6*x+3,x))\n",
        "# g′(x)=−2\n",
        "print(diff(-2*x+5,x))\n",
        "\n",
        "# According to the chain rule, h′(x)=f′(g(x))g′(x)\n",
        "# then we multiply g′(x) by f'(g(x))\n",
        "diff(6*x+3,x)*diff(-2*x+5,x) # it equals diff(6(-2x+5)+3,x)"
      ],
      "execution_count": 22,
      "outputs": [
        {
          "output_type": "stream",
          "text": [
            "6\n",
            "-2\n"
          ],
          "name": "stdout"
        },
        {
          "output_type": "execute_result",
          "data": {
            "image/png": "[encoded data removed]",
            "text/latex": "$\\displaystyle -12$",
            "text/plain": [
              "-12"
            ]
          },
          "metadata": {
            "tags": []
          },
          "execution_count": 22
        }
      ]
    },
    {
      "cell_type": "code",
      "metadata": {
        "colab": {
          "base_uri": "https://localhost:8080/",
          "height": 37
        },
        "id": "IAQIw7mUn41v",
        "outputId": "8e8d6b02-188f-414b-ea9b-67be512f1302"
      },
      "source": [
        "# يمكن عمل كل الخطوات السابقة في خطوة واحدة بالتعويض من دالة في الأخرى\n",
        "diff(6*(-2*x+5)+3,x)"
      ],
      "execution_count": 23,
      "outputs": [
        {
          "output_type": "execute_result",
          "data": {
            "image/png": "[encoded data removed]",
            "text/latex": "$\\displaystyle -12$",
            "text/plain": [
              "-12"
            ]
          },
          "metadata": {
            "tags": []
          },
          "execution_count": 23
        }
      ]
    },
    {
      "cell_type": "code",
      "metadata": {
        "colab": {
          "base_uri": "https://localhost:8080/",
          "height": 38
        },
        "id": "lwt0E2Knn41w",
        "outputId": "38a6ad5f-b2c4-4943-cdb8-06723937928d"
      },
      "source": [
        "#f(x)=3*x**2\n",
        "#g(x)=3*x\n",
        "#h(x)=g(f(x))\n",
        "\n",
        "diff(3*x**2,x)*diff(3*x,x)# it equals diff(3*3*x**2,x)\n"
      ],
      "execution_count": 24,
      "outputs": [
        {
          "output_type": "execute_result",
          "data": {
            "image/png": "[encoded data removed]",
            "text/latex": "$\\displaystyle 18 x$",
            "text/plain": [
              "18⋅x"
            ]
          },
          "metadata": {
            "tags": []
          },
          "execution_count": 24
        }
      ]
    },
    {
      "cell_type": "markdown",
      "metadata": {
        "id": "Xoo6nn_8fm3n"
      },
      "source": [
        "Sometimes we use functions as inputs to other functions. What we'd like to know is, by considering how much money I have now, how much effort should I put into making more, if my aim is to be happy? To work this out, we're going to need to know what the rate of change of happiness is, with respect to money, which is of course just the derivative (delta h by delta m). So we first compute h(p(m)) then compute the derivative\n",
        "\n",
        "delta h/delta m. Note that delta h/delta m= delta h/delta p * delta p/ delta m\n",
        "\n",
        "do we compute the derivative of each function then multiply the results together\n",
        "\n",
        "b(m)=2**m-10 & h(b)=-1/3*b**2+b+0.2"
      ]
    },
    {
      "cell_type": "code",
      "metadata": {
        "colab": {
          "base_uri": "https://localhost:8080/",
          "height": 87
        },
        "id": "A59WQckLn41w",
        "outputId": "8461948f-70d7-4752-e99a-0f91cea349e2"
      },
      "source": [
        "# get derivative of b(m) with respect to m\n",
        "h=Symbol('h')\n",
        "b=Symbol('b')\n",
        "m=Symbol('m')\n",
        "\n",
        "print(diff((2**m)-10,m))\n",
        "\n",
        "# get the derivative of h(b) with respect to b\n",
        "print(diff(-1/3*b**2+b+0.2,b))\n",
        "\n",
        "\n",
        "\n",
        "#get derivative of h(b) with respect to m to get the solution that is represented by b and m (NOT ONLY m as below)\n",
        "print(diff(-1/3*b**2+b+0.2,b)*diff(2**m-10,m))\n",
        "\n",
        "# define the relation between b and m to get the solution another way represented ONLY by m\n",
        "b=2**m-10\n",
        "\n",
        "#get derivative of h(b) with respect to m\n",
        "diff(-1/3*b**2+b+0.2,m)# put the function as a whole not as a symbol... don't put f instead of -1/3*b**2+b+0.2 ... or you will get 0\n"
      ],
      "execution_count": 25,
      "outputs": [
        {
          "output_type": "stream",
          "text": [
            "2**m*log(2)\n",
            "1 - 0.666666666666667*b\n",
            "2**m*(1 - 0.666666666666667*b)*log(2)\n"
          ],
          "name": "stdout"
        },
        {
          "output_type": "execute_result",
          "data": {
            "image/png": "[encoded data removed]",
            "text/latex": "$\\displaystyle - 0.666666666666667 \\cdot 2^{m} \\left(2^{m} - 10\\right) \\log{\\left(2 \\right)} + 2^{m} \\log{\\left(2 \\right)}$",
            "text/plain": [
              "                     m ⎛ m     ⎞           m       \n",
              "- 0.666666666666667⋅2 ⋅⎝2  - 10⎠⋅log(2) + 2 ⋅log(2)"
            ]
          },
          "metadata": {
            "tags": []
          },
          "execution_count": 25
        }
      ]
    },
    {
      "cell_type": "code",
      "metadata": {
        "colab": {
          "base_uri": "https://localhost:8080/",
          "height": 37
        },
        "id": "Mgi-6sSdn41w",
        "outputId": "47e5d453-2f3c-46bd-c50d-94f35359327d"
      },
      "source": [
        "#  يمكننا عمل كل الخطوات السابقة في خطوة واحدة بالتعويض من دالة في الأخرى من البداية\n",
        "diff(-1/3*(2**m-10)**2+(2**m-10)+0.2,m)# put the function as a whole not as a symbol... don't put f instead of -1/3*b**2+b+0.2 ... or you will get 0"
      ],
      "execution_count": 26,
      "outputs": [
        {
          "output_type": "execute_result",
          "data": {
            "image/png": "[encoded data removed]",
            "text/latex": "$\\displaystyle - 0.666666666666667 \\cdot 2^{m} \\left(2^{m} - 10\\right) \\log{\\left(2 \\right)} + 2^{m} \\log{\\left(2 \\right)}$",
            "text/plain": [
              "                     m ⎛ m     ⎞           m       \n",
              "- 0.666666666666667⋅2 ⋅⎝2  - 10⎠⋅log(2) + 2 ⋅log(2)"
            ]
          },
          "metadata": {
            "tags": []
          },
          "execution_count": 26
        }
      ]
    },
    {
      "cell_type": "code",
      "metadata": {
        "colab": {
          "base_uri": "https://localhost:8080/",
          "height": 54
        },
        "id": "857Jq_g7n41w",
        "outputId": "093a0ac3-d180-48ac-e649-e323f6dcecad"
      },
      "source": [
        "# Quiz\n",
        "\n",
        "diff((x**3-2*x)**1/2,x)"
      ],
      "execution_count": 27,
      "outputs": [
        {
          "output_type": "execute_result",
          "data": {
            "image/png": "[encoded data removed]",
            "text/latex": "$\\displaystyle \\frac{3 x^{2}}{2} - 1$",
            "text/plain": [
              "   2    \n",
              "3⋅x     \n",
              "──── - 1\n",
              " 2      "
            ]
          },
          "metadata": {
            "tags": []
          },
          "execution_count": 27
        }
      ]
    },
    {
      "cell_type": "code",
      "metadata": {
        "colab": {
          "base_uri": "https://localhost:8080/",
          "height": 51
        },
        "id": "9VGWsbAsn41w",
        "outputId": "2f81be69-1666-4693-edfc-512f51b0630a"
      },
      "source": [
        "newExpr=3*x**2/2-1\n",
        "newExpr.subs(x,5)"
      ],
      "execution_count": 28,
      "outputs": [
        {
          "output_type": "execute_result",
          "data": {
            "image/png": "[encoded data removed]",
            "text/latex": "$\\displaystyle \\frac{73}{2}$",
            "text/plain": [
              "73/2"
            ]
          },
          "metadata": {
            "tags": []
          },
          "execution_count": 28
        }
      ]
    },
    {
      "cell_type": "code",
      "metadata": {
        "colab": {
          "base_uri": "https://localhost:8080/",
          "height": 38
        },
        "id": "IVCN2PBJn41w",
        "outputId": "120b0fdc-ed17-4a2d-d10b-3b9f697f6c0b"
      },
      "source": [
        "# Quiz\n",
        "diff(((e**x)**3)-3,x)"
      ],
      "execution_count": 29,
      "outputs": [
        {
          "output_type": "execute_result",
          "data": {
            "image/png": "[encoded data removed]",
            "text/latex": "$\\displaystyle 3 e^{3 x} \\log{\\left(e \\right)}$",
            "text/plain": [
              "   3⋅x       \n",
              "3⋅e   ⋅log(e)"
            ]
          },
          "metadata": {
            "tags": []
          },
          "execution_count": 29
        }
      ]
    }
  ]
}
{
  "nbformat": 4,
  "nbformat_minor": 0,
  "metadata": {
    "kernelspec": {
      "display_name": "Python 3",
      "language": "python",
      "name": "python3"
    },
    "language_info": {
      "codemirror_mode": {
        "name": "ipython",
        "version": 3
      },
      "file_extension": ".py",
      "mimetype": "text/x-python",
      "name": "python",
      "nbconvert_exporter": "python",
      "pygments_lexer": "ipython3",
      "version": "3.7.7"
    },
    "colab": {
      "name": "ImperialCollegeWeek2_MultivariateSystems.ipynb",
      "provenance": []
    }
  },
  "cells": [
    {
      "cell_type": "markdown",
      "metadata": {
        "id": "SA_9Jtm5zpxt"
      },
      "source": [
        "\n",
        "<h1 align=center> Calculus: Multivariate Systems</h1>\n",
        "\n"
      ]
    },
    {
      "cell_type": "markdown",
      "metadata": {
        "id": "VdLwKMAC0IAj"
      },
      "source": [
        "This course is developed by Dr. Mohamed Gabr (gbrbreen2@gmail.com) as an introduction to mathematics for AI. The course focuses on using Python for Calculus using Sympy."
      ]
    },
    {
      "cell_type": "markdown",
      "metadata": {
        "id": "0Pfvvqfkahoy"
      },
      "source": [
        "# Partial derivative"
      ]
    },
    {
      "cell_type": "markdown",
      "metadata": {
        "id": "LGgnIsGogeEM"
      },
      "source": [
        "A partial derivative of a function of several variables is its derivative with respect to one of those variables, with the others held constant (as opposed to the total derivative, in which all variables are allowed to vary). Partial derivatives are used in vector calculus."
      ]
    },
    {
      "cell_type": "code",
      "metadata": {
        "jupyter": {
          "outputs_hidden": false
        },
        "colab": {
          "base_uri": "https://localhost:8080/",
          "height": 55
        },
        "id": "LdPk3Kmiahoz",
        "outputId": "c188fa73-b65e-4da5-b271-4d3fca5667c6"
      },
      "source": [
        "from sympy import *\n",
        "f=Symbol('f')\n",
        "x= Symbol('x')\n",
        "y=Symbol('y')\n",
        "init_printing()\n",
        "\n",
        "f=x**2*y\n",
        "\n",
        "# let us find the derivative with respect to x (how the function result changes as we shift around x while y is constant)\n",
        "print(diff(f,x))\n",
        "\n",
        "# let us say that x=1 and y=2 ==> we find f(1,2)\n",
        "diff(f,x).subs(x,1)"
      ],
      "execution_count": 1,
      "outputs": [
        {
          "output_type": "stream",
          "text": [
            "2*x*y\n"
          ],
          "name": "stdout"
        },
        {
          "output_type": "execute_result",
          "data": {
            "image/png": "[encoded data removed]",
            "text/latex": "$\\displaystyle 2 y$",
            "text/plain": [
              "2⋅y"
            ]
          },
          "metadata": {
            "tags": []
          },
          "execution_count": 1
        }
      ]
    },
    {
      "cell_type": "code",
      "metadata": {
        "jupyter": {
          "outputs_hidden": false
        },
        "colab": {
          "base_uri": "https://localhost:8080/",
          "height": 55
        },
        "id": "bvngGZOOaho1",
        "outputId": "19295baf-e3b8-47be-e014-4415dbb1a582"
      },
      "source": [
        "# let us find the derivative with respect to y (how the fnction result  changes as we shift around y while x is constant)\n",
        "print(diff(f,y))\n",
        "\n",
        "# let us say that x=1 and y=2 ==> we find f(1,2)\n",
        "diff(f,y).subs(y,2)\n",
        "diff(f,y)"
      ],
      "execution_count": 2,
      "outputs": [
        {
          "output_type": "stream",
          "text": [
            "x**2\n"
          ],
          "name": "stdout"
        },
        {
          "output_type": "execute_result",
          "data": {
            "image/png": "[encoded data removed]",
            "text/latex": "$\\displaystyle x^{2}$",
            "text/plain": [
              " 2\n",
              "x "
            ]
          },
          "metadata": {
            "tags": []
          },
          "execution_count": 2
        }
      ]
    },
    {
      "cell_type": "markdown",
      "metadata": {
        "id": "KCpy3WSraho2"
      },
      "source": [
        "# Total derivative and the multivariate chain rule"
      ]
    },
    {
      "cell_type": "code",
      "metadata": {
        "jupyter": {
          "outputs_hidden": false
        },
        "colab": {
          "base_uri": "https://localhost:8080/",
          "height": 106
        },
        "id": "194ShVx2aho3",
        "outputId": "2899c8c7-58ee-49d8-a6b0-e6fe2276bc79"
      },
      "source": [
        "#https://www.math.hmc.edu/calculus/tutorials/multichainrule/\n",
        "\n",
        "# Let f=x2y−y2 where x and y are parametrized as x=t**2 and y=2t.\n",
        "f=Symbol('f')\n",
        "x= Symbol('x')\n",
        "y=Symbol('y')\n",
        "t=Symbol('t')\n",
        "\n",
        "\n",
        "\n",
        "f=x**2*y-y**2\n",
        "\n",
        "# get the derivative of f with respect to x\n",
        "dfOndx=diff(f,x)\n",
        "print(diff(f,x))\n",
        "\n",
        "# get the derivative of f with respect to y\n",
        "dfOndy=diff(f,y)\n",
        "print(diff(f,y))\n",
        "\n",
        "\n",
        "\n",
        "# define the relation between x and t & between y and t\n",
        "x=t**2\n",
        "y=2*t\n",
        "\n",
        "dxOndt=diff(x,t)\n",
        "dyOndt=diff(y,t)\n",
        "\n",
        "print(dxOndt)\n",
        "print(dyOndt)\n",
        "\n",
        "f=x**2*y-y**2 # note that we should put the big function near the differentiation to get the correct result\n",
        "#get derivative of f with respect to t\n",
        "diff(f,t)"
      ],
      "execution_count": 3,
      "outputs": [
        {
          "output_type": "stream",
          "text": [
            "2*x*y\n",
            "x**2 - 2*y\n",
            "2*t\n",
            "2\n"
          ],
          "name": "stdout"
        },
        {
          "output_type": "execute_result",
          "data": {
            "image/png": "[encoded data removed]",
            "text/latex": "$\\displaystyle 10 t^{4} - 8 t$",
            "text/plain": [
              "    4      \n",
              "10⋅t  - 8⋅t"
            ]
          },
          "metadata": {
            "tags": []
          },
          "execution_count": 3
        }
      ]
    },
    {
      "cell_type": "code",
      "metadata": {
        "jupyter": {
          "outputs_hidden": false
        },
        "id": "__8C6quoaho4"
      },
      "source": [
        "# ِAnother solution using the chain rule for multivariate  حل آخر يدوي يدوي يدوي باستخدام قاعدة السلسلة\n",
        "# the rule is here: https://www.math.hmc.edu/calculus/tutorials/multichainrule/\n",
        "\n",
        "# dfOndx.dot(dxOndt)+dfOndy.dot(dyOndt)\n",
        "# بعد ذلك يتم التعويض عن كل من \n",
        "# x and y using ==> t"
      ],
      "execution_count": 4,
      "outputs": []
    },
    {
      "cell_type": "code",
      "metadata": {
        "jupyter": {
          "outputs_hidden": false
        },
        "colab": {
          "base_uri": "https://localhost:8080/",
          "height": 55
        },
        "id": "aRRKZXEFaho5",
        "outputId": "70db696f-3af3-4821-d0a1-b052d023a4d8"
      },
      "source": [
        "# يمكننا عمل كل الخطوات السابقة في خطوة واحدة بالتعويض من دالة في الأخرى من البدابة\n",
        "# f represented by t ==> f=(t**2)**2*(2*t)-(2*t)**2\n",
        "print(diff(f,t))# you may  put the function as a whole not as a symbol ==> (t**2)**2*(2*t)-(2*t)**2... to avoid having the result as 0\n",
        "diff((t**2)**2*(2*t)-(2*t)**2,t)"
      ],
      "execution_count": 5,
      "outputs": [
        {
          "output_type": "stream",
          "text": [
            "10*t**4 - 8*t\n"
          ],
          "name": "stdout"
        },
        {
          "output_type": "execute_result",
          "data": {
            "image/png": "[encoded data removed]",
            "text/latex": "$\\displaystyle 10 t^{4} - 8 t$",
            "text/plain": [
              "    4      \n",
              "10⋅t  - 8⋅t"
            ]
          },
          "metadata": {
            "tags": []
          },
          "execution_count": 5
        }
      ]
    },
    {
      "cell_type": "code",
      "metadata": {
        "jupyter": {
          "outputs_hidden": false
        },
        "colab": {
          "base_uri": "https://localhost:8080/",
          "height": 55
        },
        "id": "p9-Nlor2aho6",
        "outputId": "9a77f26d-07ff-4df3-a76e-036f2810434e"
      },
      "source": [
        "# get the same results using subs\n",
        "f=Symbol('f')\n",
        "x= Symbol('x')\n",
        "y=Symbol('y')\n",
        "t=Symbol('t')\n",
        "\n",
        "\n",
        "\n",
        "f=x**2*y-y**2\n",
        "print(f)\n",
        "diff(f.subs([(x,t**2), (y,2*t)]),t)"
      ],
      "execution_count": 6,
      "outputs": [
        {
          "output_type": "stream",
          "text": [
            "x**2*y - y**2\n"
          ],
          "name": "stdout"
        },
        {
          "output_type": "execute_result",
          "data": {
            "image/png": "[encoded data removed]",
            "text/latex": "$\\displaystyle 10 t^{4} - 8 t$",
            "text/plain": [
              "    4      \n",
              "10⋅t  - 8⋅t"
            ]
          },
          "metadata": {
            "tags": []
          },
          "execution_count": 6
        }
      ]
    },
    {
      "cell_type": "markdown",
      "metadata": {
        "id": "UsXCQtg8aho6"
      },
      "source": [
        "# The Jacobian"
      ]
    },
    {
      "cell_type": "markdown",
      "metadata": {
        "id": "IEv9PBFwg1Dt"
      },
      "source": [
        "To understand the Jacobian, we need to understand plotting well. So, we will explain how to plot first"
      ]
    },
    {
      "cell_type": "code",
      "metadata": {
        "jupyter": {
          "outputs_hidden": false
        },
        "colab": {
          "base_uri": "https://localhost:8080/",
          "height": 265
        },
        "id": "AgrMVhFgaho7",
        "outputId": "fb8d45c3-d444-499e-af26-cb308a6f54db"
      },
      "source": [
        "# this is how to plot points\n",
        "from matplotlib import *\n",
        "import matplotlib.pyplot as plt\n",
        "plt.plot([1, 2, 3, 4], [1, 4, 9, 16], 'g^') # the first list is Xs and the second list is Ys\n",
        "plt.ylabel('some numbers')\n",
        "plt.show()"
      ],
      "execution_count": 8,
      "outputs": [
        {
          "output_type": "display_data",
          "data": {
            "image/png": "[encoded data removed]",
            "text/plain": [
              "<Figure size 432x288 with 1 Axes>"
            ]
          },
          "metadata": {
            "tags": [],
            "needs_background": "light"
          }
        }
      ]
    },
    {
      "cell_type": "code",
      "metadata": {
        "jupyter": {
          "outputs_hidden": false
        },
        "colab": {
          "base_uri": "https://localhost:8080/",
          "height": 269
        },
        "id": "PBlb4ovlaho7",
        "outputId": "0e9bc0e1-831a-4226-9878-9c180ce6cc4d"
      },
      "source": [
        "# this is how to plot vectors\n",
        "# here we are plotting 2 vectors. So, we define the Xs then the Ys of the starting points of them [5, 0], [8, 9,]. So, the start \n",
        "# point of the first is (5,8) and the start point  of the second is (0,2). Then we define the Xs and the Ys for each vector \n",
        "# [1, 2], [1, 7]. So, the end point of the first vector is (1,1) and the second vector is (2,7). \n",
        "plt.quiver([5, 0], [8, 2], [1, 2], [1, 7], angles='xy', scale_units='xy', scale=1)\n",
        "plt.xlim(0, 10)\n",
        "plt.ylim(0, 10)\n",
        "plt.show()"
      ],
      "execution_count": 9,
      "outputs": [
        {
          "output_type": "display_data",
          "data": {
            "image/png": "[encoded data removed]",
            "text/plain": [
              "<Figure size 432x288 with 1 Axes>"
            ]
          },
          "metadata": {
            "tags": [],
            "needs_background": "light"
          }
        }
      ]
    },
    {
      "cell_type": "code",
      "metadata": {
        "jupyter": {
          "outputs_hidden": false
        },
        "colab": {
          "base_uri": "https://localhost:8080/",
          "height": 279
        },
        "id": "yXiPNjlpaho8",
        "outputId": "9ec8a92f-0b6c-4595-d7be-96210d8c61b5"
      },
      "source": [
        "import numpy as np\n",
        "data = {'a': np.arange(50),\n",
        "        'c': np.random.randint(0, 50, 50),\n",
        "        'd': np.random.randn(50)}\n",
        "data['b'] = data['a'] + 10 * np.random.randn(50)\n",
        "data['d'] = np.abs(data['d']) * 100\n",
        "\n",
        "plt.scatter('a', 'b', c='c', s='d', data=data)\n",
        "plt.xlabel('entry a')\n",
        "plt.ylabel('entry b')\n",
        "plt.show()"
      ],
      "execution_count": 11,
      "outputs": [
        {
          "output_type": "display_data",
          "data": {
            "image/png": "[encoded data removed]",
            "text/plain": [
              "<Figure size 432x288 with 1 Axes>"
            ]
          },
          "metadata": {
            "tags": [],
            "needs_background": "light"
          }
        }
      ]
    },
    {
      "cell_type": "markdown",
      "metadata": {
        "id": "VjeiqeWlhAyk"
      },
      "source": [
        "We're going to introduce the Jacobian, which brings in some of the ideas from linear algebra to build these partial derivatives into something particularly useful. The concept of the Jacobian can be applied to a variety of different problems. But in the context of getting started with optimisation and machine learning, there is a particular scenario that comes up a lot, which is the Jacobian of a single function of many variables.\n",
        "\n",
        "In short, if you have a function of many variables so  f(x1, x2, x3, ...) then the Jacobian is simply a vector where each entry is the partial derivative of f with respect to each one of those variables in turn. By convention, we write this as a row vector rather than a column vector\n",
        "\n",
        "To build the Jacobian, we just find each of the partial derivatives of the function one by one. So, the vector is a collection of derivatives/ differentials/ rates of change for the original function with respect to the variables x,y,z"
      ]
    },
    {
      "cell_type": "code",
      "metadata": {
        "jupyter": {
          "outputs_hidden": false
        },
        "colab": {
          "base_uri": "https://localhost:8080/"
        },
        "id": "6YkHpNZ9aho9",
        "outputId": "871cab7a-552b-4ebe-f27b-601fd5b24543"
      },
      "source": [
        "# here we will build a function f(x,y,z)=x**2*y+3*z and get each of the partial derivatives\n",
        "from sympy import *\n",
        "from sympy.plotting import plot3d\n",
        "\n",
        "f=Symbol('f')\n",
        "x= Symbol('x')\n",
        "y=Symbol('y')\n",
        "z=Symbol('z')\n",
        "init_printing()\n",
        "f=x**2*y+3*z\n",
        "print(diff(f,x))\n",
        "print(diff(f,y))\n",
        "print(diff(f,z))\n",
        "\n",
        "# Now we build the Jcobian vector.... we can build it using Sympy Or Numpy\n",
        "jacobianVector=Matrix([diff(f,x),diff(f,y),diff(f,z)])# we use the jacobian vector as a row vector. So, we should transpose it before usage\n",
        "print(jacobianVector)\n",
        "\n",
        "\n",
        "#jacobianPlot=plot3d(jacobianVector.subs((x,1),(y,2)), (x, -5, 5), (y, -5, 5))"
      ],
      "execution_count": 12,
      "outputs": [
        {
          "output_type": "stream",
          "text": [
            "2*x*y\n",
            "x**2\n",
            "3\n",
            "Matrix([[2*x*y], [x**2], [3]])\n"
          ],
          "name": "stdout"
        }
      ]
    },
    {
      "cell_type": "markdown",
      "metadata": {
        "id": "Kj7xUWTckjPM"
      },
      "source": [
        "We now have an algebraic expression for a vector which when we give it a specific  x, y, z coordinate, will return a vector pointing in the direction of steepest uphill slope of this function. The vector for this particular function has a constant contribution in the z direction which does not depend on the location selected. For example, at the point (0, 0, 0),  we can see that our Jacobian is just going to be J(0, 0, 0) is just going to be well, (0, 0, 3) over here. So we can see that our Jacobian is a vector of length 3 pointing directly in the z direction. So, we know the magnitude and the direction."
      ]
    },
    {
      "cell_type": "code",
      "metadata": {
        "jupyter": {
          "outputs_hidden": false
        },
        "colab": {
          "base_uri": "https://localhost:8080/",
          "height": 78
        },
        "id": "Gvkm_MDHaho-",
        "outputId": "48903fe9-7e29-4323-f212-f0af87823969"
      },
      "source": [
        "jacobianVector.subs([(x,0), (y,0), (z,0)])"
      ],
      "execution_count": 14,
      "outputs": [
        {
          "output_type": "execute_result",
          "data": {
            "text/latex": "$\\displaystyle \\left[\\begin{matrix}0\\\\0\\\\3\\end{matrix}\\right]$",
            "text/plain": [
              "⎡0⎤\n",
              "⎢ ⎥\n",
              "⎢0⎥\n",
              "⎢ ⎥\n",
              "⎣3⎦"
            ]
          },
          "metadata": {
            "tags": []
          },
          "execution_count": 14
        }
      ]
    },
    {
      "cell_type": "code",
      "metadata": {
        "jupyter": {
          "outputs_hidden": false
        },
        "id": "QS9qWnxIaho-"
      },
      "source": [
        ""
      ],
      "execution_count": 15,
      "outputs": []
    },
    {
      "cell_type": "markdown",
      "metadata": {
        "id": "4nDA0M9jhgm0"
      },
      "source": [
        "The Jacobian is simply a vector that we can calculate for each location on this plot which points in the direction of the steepest uphill slope. Furthermore, the steeper the slope, the greater the magnitude of Jacobian at that point. "
      ]
    },
    {
      "cell_type": "code",
      "metadata": {
        "jupyter": {
          "outputs_hidden": false
        },
        "colab": {
          "base_uri": "https://localhost:8080/",
          "height": 158
        },
        "id": "mydBhI8Baho-",
        "outputId": "f64cebcd-6ea8-4599-fd5e-bfa050c8d877"
      },
      "source": [
        "# Another example of the Jacobian\n",
        "from sympy import *\n",
        "from sympy.parsing.sympy_parser import parse_expr\n",
        "\n",
        "f=Symbol('f')\n",
        "x= Symbol('x')\n",
        "y=Symbol('y')\n",
        "f=x**2*y+3*x*y+y**2*x\n",
        "\n",
        "jacobianVector=Matrix([diff(f,x),diff(f,y)])# # we use the jacobian vector as a row vector. So, we should transpose it before usage\n",
        "print(jacobianVector)\n",
        "print(jacobianVector.subs([(x,1), (y,2)]))# Note the difference between subs when used in matrices and when used in functions\n",
        "print(jacobianVector[0])\n",
        "print(jacobianVector[1])\n",
        "\n",
        "vectorXcoord=jacobianVector[0].subs([(x, 1), (y, 2)])\n",
        "vectorYcoord=jacobianVector[1].subs([(x, 1), (y, 2)])\n",
        "print([vectorXcoord])# Note the difference between subs when used in matrices and when used in functions\n",
        "print([vectorYcoord])# Note the difference between subs when used in matrices and when used in functions\n",
        "\n",
        "jacobianVector.subs([(x,1), (y,2)])"
      ],
      "execution_count": 16,
      "outputs": [
        {
          "output_type": "stream",
          "text": [
            "Matrix([[2*x*y + y**2 + 3*y], [x**2 + 2*x*y + 3*x]])\n",
            "Matrix([[14], [8]])\n",
            "2*x*y + y**2 + 3*y\n",
            "x**2 + 2*x*y + 3*x\n",
            "[14]\n",
            "[8]\n"
          ],
          "name": "stdout"
        },
        {
          "output_type": "execute_result",
          "data": {
            "text/latex": "$\\displaystyle \\left[\\begin{matrix}14\\\\8\\end{matrix}\\right]$",
            "text/plain": [
              "⎡14⎤\n",
              "⎢  ⎥\n",
              "⎣8 ⎦"
            ]
          },
          "metadata": {
            "tags": []
          },
          "execution_count": 16
        }
      ]
    },
    {
      "cell_type": "markdown",
      "metadata": {
        "id": "eXEnC1x0aho_"
      },
      "source": [
        "# Jacobian Applied"
      ]
    },
    {
      "cell_type": "markdown",
      "metadata": {
        "id": "8Typsj3lhtaM"
      },
      "source": [
        "We're going to extend the concept of the Jacobian, from vectors up to matrices, which will allow us to describe the rates of change of a vector valued function. \n",
        "\n",
        "So, we're now going to do the reverse of our approach from the last time and start by looking at the vector field in the Jacobians, then see if we can understand how the function must look."
      ]
    },
    {
      "cell_type": "code",
      "metadata": {
        "jupyter": {
          "outputs_hidden": false
        },
        "colab": {
          "base_uri": "https://localhost:8080/"
        },
        "id": "ZeLJqhZ9aho_",
        "outputId": "834706fe-a847-4e5a-bfc3-5a4173c9e721"
      },
      "source": [
        "from sympy import *\n",
        "\n",
        "f=Symbol('f')\n",
        "x= Symbol('x')\n",
        "y=Symbol('y')\n",
        "f=2**(x**2+y**2)\n",
        "jacobianVector=Matrix([diff(f,x),diff(f,y)])# we use the jacobian vector as a row vector. So, we should transpose it before usage\n",
        "print(jacobianVector)"
      ],
      "execution_count": 18,
      "outputs": [
        {
          "output_type": "stream",
          "text": [
            "Matrix([[2*2**(x**2 + y**2)*x*log(2)], [2*2**(x**2 + y**2)*y*log(2)]])\n"
          ],
          "name": "stdout"
        }
      ]
    },
    {
      "cell_type": "code",
      "metadata": {
        "jupyter": {
          "outputs_hidden": false
        },
        "colab": {
          "base_uri": "https://localhost:8080/",
          "height": 74
        },
        "id": "EntSbzayaho_",
        "outputId": "c985ec15-be4f-438a-ac09-b82f92b21772"
      },
      "source": [
        "# let us find the Jacobian for some specific points (-1,1) & (2,2) & (0,0)\n",
        "from sympy import *\n",
        "from mpmath import *\n",
        "mp.dps = 15; mp.pretty = True\n",
        "print(log(2))\n",
        "\n",
        "jacobianVector.subs([(x,-1), (y,1)])"
      ],
      "execution_count": 19,
      "outputs": [
        {
          "output_type": "stream",
          "text": [
            "0.693147180559945\n"
          ],
          "name": "stdout"
        },
        {
          "output_type": "execute_result",
          "data": {
            "text/latex": "$\\displaystyle \\left[\\begin{matrix}- 8 \\log{\\left(2 \\right)}\\\\8 \\log{\\left(2 \\right)}\\end{matrix}\\right]$",
            "text/plain": [
              "⎡-8⋅log(2)⎤\n",
              "⎢         ⎥\n",
              "⎣8⋅log(2) ⎦"
            ]
          },
          "metadata": {
            "tags": []
          },
          "execution_count": 19
        }
      ]
    },
    {
      "cell_type": "code",
      "metadata": {
        "jupyter": {
          "outputs_hidden": false
        },
        "colab": {
          "base_uri": "https://localhost:8080/",
          "height": 58
        },
        "id": "k7qpQYv6ahpA",
        "outputId": "196e408e-ce5e-4289-d206-597d70524a13"
      },
      "source": [
        "jacobianVector.subs([(x,2), (y,2)])"
      ],
      "execution_count": 20,
      "outputs": [
        {
          "output_type": "execute_result",
          "data": {
            "text/latex": "$\\displaystyle \\left[\\begin{matrix}1024 \\log{\\left(2 \\right)}\\\\1024 \\log{\\left(2 \\right)}\\end{matrix}\\right]$",
            "text/plain": [
              "⎡1024⋅log(2)⎤\n",
              "⎢           ⎥\n",
              "⎣1024⋅log(2)⎦"
            ]
          },
          "metadata": {
            "tags": []
          },
          "execution_count": 20
        }
      ]
    },
    {
      "cell_type": "markdown",
      "metadata": {
        "id": "TN1SdHeph77k"
      },
      "source": [
        "let's look at what's going on at the origin itself. Subbing in the point zero zero returns the zero vector, suggesting that the function is flat at this point, which must mean one of three things. Either, this point is a maximum, minimum, or something called a saddle, which we'll cover later in this module."
      ]
    },
    {
      "cell_type": "code",
      "metadata": {
        "jupyter": {
          "outputs_hidden": false
        },
        "colab": {
          "base_uri": "https://localhost:8080/",
          "height": 58
        },
        "id": "FiK-Icw3ahpA",
        "outputId": "e4b79596-cb15-4cd5-9964-8bf6fbf93929"
      },
      "source": [
        "jacobianVector.subs([(x,0), (y,0)])"
      ],
      "execution_count": 22,
      "outputs": [
        {
          "output_type": "execute_result",
          "data": {
            "text/latex": "$\\displaystyle \\left[\\begin{matrix}0\\\\0\\end{matrix}\\right]$",
            "text/plain": [
              "⎡0⎤\n",
              "⎢ ⎥\n",
              "⎣0⎦"
            ]
          },
          "metadata": {
            "tags": []
          },
          "execution_count": 22
        }
      ]
    },
    {
      "cell_type": "code",
      "metadata": {
        "collapsed": true,
        "jupyter": {
          "outputs_hidden": true
        },
        "id": "rYZkL1tcahpA"
      },
      "source": [
        ""
      ],
      "execution_count": 23,
      "outputs": []
    },
    {
      "cell_type": "markdown",
      "metadata": {
        "id": "Et-7_hTTiGau"
      },
      "source": [
        "Next, we're going to build a Jacobian matrix which describes functions that take a vector as an input, but unlike our previous examples, also give a vector as the output. If we consider the two functions: u=x-2y & v=3y-2x we can think of these as two vector spaces, one containing vectors with coordinates in u v and the other with coordinates in x and y. Each point in x y has a corresponding location in u v. So, as we move around x y space, we would expect our corresponding path in u v space to be quite different and so it is."
      ]
    },
    {
      "cell_type": "markdown",
      "metadata": {
        "id": "tmEg6f_HiS28"
      },
      "source": [
        "Let us the Jacobian transformation matrix  (The matrix that transforms from xy space to uv space)"
      ]
    },
    {
      "cell_type": "code",
      "metadata": {
        "jupyter": {
          "outputs_hidden": false
        },
        "colab": {
          "base_uri": "https://localhost:8080/"
        },
        "id": "DZFw2oxwahpB",
        "outputId": "54e19a7c-3e5c-4a5b-e029-5e88a5ed988b"
      },
      "source": [
        "from sympy import *\n",
        "\n",
        "\n",
        "x= Symbol('x')\n",
        "y=Symbol('y')\n",
        "u=Symbol('u')\n",
        "v=Symbol('v')\n",
        "init_printing()\n",
        "u=x-2*y\n",
        "v=3*y-2*x\n",
        "jacobianMatrix=Matrix([[diff(u,x),diff(u,y)], [diff(v,x),diff(v,y)]])\n",
        "print(jacobianMatrix)#  this matrix is just the linear transformation from xy space to uv space."
      ],
      "execution_count": 25,
      "outputs": [
        {
          "output_type": "stream",
          "text": [
            "Matrix([[1, -2], [-2, 3]])\n"
          ],
          "name": "stdout"
        }
      ]
    },
    {
      "cell_type": "markdown",
      "metadata": {
        "id": "vFENC2kHidP1"
      },
      "source": [
        "So if we have a vector (x,y) = (2,3) and we want to make the calculations"
      ]
    },
    {
      "cell_type": "code",
      "metadata": {
        "jupyter": {
          "outputs_hidden": false
        },
        "colab": {
          "base_uri": "https://localhost:8080/",
          "height": 58
        },
        "id": "vZ-KXU7OahpC",
        "outputId": "63656eb4-fc64-40f3-c022-5bd93de98646"
      },
      "source": [
        "vectorA=Matrix([2,3])\n",
        "\n",
        "jacobianMatrix*vectorA"
      ],
      "execution_count": 27,
      "outputs": [
        {
          "output_type": "execute_result",
          "data": {
            "text/latex": "$\\displaystyle \\left[\\begin{matrix}-4\\\\5\\end{matrix}\\right]$",
            "text/plain": [
              "⎡-4⎤\n",
              "⎢  ⎥\n",
              "⎣5 ⎦"
            ]
          },
          "metadata": {
            "tags": []
          },
          "execution_count": 27
        }
      ]
    },
    {
      "cell_type": "code",
      "metadata": {
        "jupyter": {
          "outputs_hidden": false
        },
        "colab": {
          "base_uri": "https://localhost:8080/"
        },
        "id": "4rtVglyYahpC",
        "outputId": "514342f5-5faa-45ec-e58e-6ba57c5272cc"
      },
      "source": [
        "# converting Sympy array to numpy array\n",
        "import numpy as np\n",
        "JacobianArray=np.array(np.array(jacobianMatrix).astype(np.float64)).astype(np.float64)\n",
        "VectorA_Array=np.array(np.array(vectorA).astype(np.float64)).astype(np.float64)\n",
        "#np.matmul(JacobianArray,VectorA_Array)\n",
        "JacobianArray.dot(VectorA_Array)"
      ],
      "execution_count": 28,
      "outputs": [
        {
          "output_type": "execute_result",
          "data": {
            "text/plain": [
              "array([[-4.],\n",
              "       [ 5.]])"
            ]
          },
          "metadata": {
            "tags": []
          },
          "execution_count": 28
        }
      ]
    },
    {
      "cell_type": "code",
      "metadata": {
        "jupyter": {
          "outputs_hidden": false
        },
        "colab": {
          "base_uri": "https://localhost:8080/"
        },
        "id": "svgeCJQQahpC",
        "outputId": "5cf1f1e8-762b-4ec4-fd09-647eedfd03c8"
      },
      "source": [
        "# Another Jacobian Example for u(x,y)=x**2−y**2 and v(x,y) = 2xy\n",
        "from sympy import *\n",
        "\n",
        "\n",
        "x= Symbol('x')\n",
        "y=Symbol('y')\n",
        "u=Symbol('u')\n",
        "v=Symbol('v')\n",
        "init_printing()\n",
        "\n",
        "u=x**2-y**2\n",
        "v=2*x*y\n",
        "\n",
        "jacobianMatrix=Matrix([[diff(u,x),diff(u,y)], [diff(v,x),diff(v,y)]])\n",
        "print(jacobianMatrix)"
      ],
      "execution_count": 29,
      "outputs": [
        {
          "output_type": "stream",
          "text": [
            "Matrix([[2*x, -2*y], [2*y, 2*x]])\n"
          ],
          "name": "stdout"
        }
      ]
    },
    {
      "cell_type": "markdown",
      "metadata": {
        "id": "psZYnXkVahpD"
      },
      "source": [
        "# Sandpit"
      ]
    },
    {
      "cell_type": "markdown",
      "metadata": {
        "id": "N5JVJlxhit6E"
      },
      "source": [
        "In everyday language, we use the word optimisation to describe the process of trying to make something as good as it can be. \n",
        "\n",
        "In mathematics, optimisation basically means the same thing, as much of the research is dedicated to finding the input values to functions, which correspond to either a maximum or a minimum of a system. Examples of mathematical optimisation in action in the real world include the planning of routes through busy cities, the scheduling of production in a factory, or a strategyfor selecting stocks when trading. If we go back to the simplest function we saw in the last section, and we said that we wanted to find the location of the maximum, we can simply solve this system analytically by first building the Jacobian. \n",
        "\n",
        "And then finding the values of x and y which make it equal to 0. However, when the function gets a bit more complicated, finding the maximum or minimum can get a bit tricky. If as in this case, we still have an analytical expression, then we can at least still find the general expression for the Jacobian. But now simply setting it to 0 is not only much more complicated but it also is not enough as this function has multiple locations with zero gradient. "
      ]
    },
    {
      "cell_type": "markdown",
      "metadata": {
        "id": "_FyXUGnXi-yU"
      },
      "source": [
        "In the following exercises, you're going to try to find the deepest point of a sandpit by measuring the depth of various points using a long stick. This is a very deep sandpit, so once you push the stick down to the bottom, there's no way to move it around sideways. You just have pull it out and try somewhere else. Also crucially, just like our nightwalking scenario ,\n",
        " وهي عندما تسير في منطقة جبلية ليلا وتريد الوصول لأعلى نقطة \n",
        "  you will have no idea what the peaks and troughs looks like at the bottom of the pit because you can't see, the sand is in the way. As you work through the exercise, I'm hoping that you will start to pick up on a few of the subtleties of optimisation. And hopefully, leave you with a few new questions as well, see you next time and have fun in the sandpit.\n",
        "\n",
        "https://github.com/AdityaGupta030697/Mathematics-for-Machine-Learning/blob/master/sandpit.ipynb\n",
        "\n",
        "https://github.com/AdityaGupta030697/Mathematics-for-Machine-Learning/blob/master/sandpit2.ipynb"
      ]
    },
    {
      "cell_type": "markdown",
      "metadata": {
        "id": "hZyvWIHBahpD"
      },
      "source": [
        "# Hessian"
      ]
    },
    {
      "cell_type": "markdown",
      "metadata": {
        "id": "hFOMDFfIjP8s"
      },
      "source": [
        "In many ways, the Hessian can be thought of as a simple extension of the Jacobian vector. For the Jacobian, we collected together all of the first order derivatives of a function into a vector. Now, we're going to collect all of the second order derivatives together into a matrix, which for a function of n variables, would look like this. However, this is one of those scenarios where using an abbreviated notation style comes in really handy. We saw in the previous module that we can just keep differentiating a function using the same method to find higher and higher order derivatives. Similarly for a partial derivative, if you want to find the second derivative with respect to x1 then x2, it's as simple as just differentiating with respect to x1, assuming all the other variables are constant, and then differentiating with respect to x2, again, assuming all the other variables are constant. As you can see from this general form, our Hessian matrix will be  an n by n square matrix, where n is the number of variables in our function f."
      ]
    },
    {
      "cell_type": "code",
      "metadata": {
        "jupyter": {
          "outputs_hidden": false
        },
        "colab": {
          "base_uri": "https://localhost:8080/"
        },
        "id": "TT1xCyKJahpE",
        "outputId": "4fa5dba5-5852-45df-88ae-02372e5de4ac"
      },
      "source": [
        "# we will use the function f(x,y,x)=x**2*y*z\n",
        "from sympy import *\n",
        "\n",
        "\n",
        "x= Symbol('x')\n",
        "y=Symbol('y')\n",
        "f=Symbol('f')\n",
        "init_printing()\n",
        "f=x**2*y*z\n",
        "# first we get the Jacobian\n",
        "jVector=Matrix([[diff(f,x),diff(f,y),diff(f,z)]])# we use the jacobian vector as a row vector. So, we should transpose it before usage\n",
        "print(jVector)\n",
        "Hessian=Matrix([[diff(jVector[0,0],x), diff(jVector[0,0],y),\\\n",
        "                 diff(jVector[0,1],z)],[diff(jVector[0,1],x), diff(jVector[0,1],y),diff(jVector[0,0],z)],\\\n",
        "               [diff(jVector[0,2],x), diff(jVector[0,2],y),diff(jVector[0,2],z)]])\n",
        "print(Hessian)\n",
        "# So one thing to notice here is that our Hessian matrix is symmetrical across the leading diagonal. So actually, once I'd \n",
        "# worked out the top right region, I could just have written these directly in for the bottom left region. This will always be \n",
        "# true if the function is continuous, meaning that it has no sudden step changes."
      ],
      "execution_count": 33,
      "outputs": [
        {
          "output_type": "stream",
          "text": [
            "Matrix([[2*x*y*z, x**2*z, x**2*y]])\n",
            "Matrix([[2*y*z, 2*x*z, x**2], [2*x*z, 0, 2*x*y], [2*x*y, x**2, 0]])\n"
          ],
          "name": "stdout"
        }
      ]
    },
    {
      "cell_type": "code",
      "metadata": {
        "jupyter": {
          "outputs_hidden": false
        },
        "id": "bnJXev1-ahpE"
      },
      "source": [
        ""
      ],
      "execution_count": 34,
      "outputs": []
    },
    {
      "cell_type": "markdown",
      "metadata": {
        "id": "8tAD4smCjl5k"
      },
      "source": [
        "### Another example of Jacobian and Hessian"
      ]
    },
    {
      "cell_type": "code",
      "metadata": {
        "collapsed": true,
        "jupyter": {
          "outputs_hidden": true
        },
        "id": "-OxhA6QTahpE"
      },
      "source": [
        ""
      ],
      "execution_count": 35,
      "outputs": []
    },
    {
      "cell_type": "markdown",
      "metadata": {
        "id": "TiVqjVjBjrq9"
      },
      "source": [
        "We can now simply pass our Hessian an xyz coordinate,  and it will return a matrix of numbers, which hopefully tells us something about that point in the space. In order to visualize this, we're going to have to drop down to two dimensions again. \n",
        "Consider the simple function f(x,y) = x **2 + y **2. Calculating the Jacobian and the Hessian are both fairly straightforward. "
      ]
    },
    {
      "cell_type": "code",
      "metadata": {
        "jupyter": {
          "outputs_hidden": false
        },
        "colab": {
          "base_uri": "https://localhost:8080/"
        },
        "id": "EfVTDLopahpE",
        "outputId": "dff1b148-a55d-4b5b-dec1-ace09265b4f9"
      },
      "source": [
        "from sympy import *\n",
        "\n",
        "\n",
        "x= Symbol('x')\n",
        "y=Symbol('y')\n",
        "f=Symbol('f')\n",
        "init_printing()\n",
        "f=x**2+y**2\n",
        "\n",
        "jacobianVector=Matrix([[diff(f,x),diff(f,y)]])# we use the jacobian vector as a row vector. So, we should transpose it before usage\n",
        "print(jacobianVector)\n",
        "Hessian1=Matrix([[diff(jacobianVector[0,0],x), diff(jacobianVector[0,0],y)],\\\n",
        "                 [diff(jacobianVector[0,1],x), diff(jacobianVector[0,1],y)]])\n",
        "print(Hessian1)"
      ],
      "execution_count": 36,
      "outputs": [
        {
          "output_type": "stream",
          "text": [
            "Matrix([[2*x, 2*y]])\n",
            "Matrix([[2, 0], [0, 2]])\n"
          ],
          "name": "stdout"
        }
      ]
    },
    {
      "cell_type": "code",
      "metadata": {
        "jupyter": {
          "outputs_hidden": false
        },
        "colab": {
          "base_uri": "https://localhost:8080/",
          "height": 38
        },
        "id": "e789XVXiahpE",
        "outputId": "33eb0df8-e686-4d24-9da9-6cdc72d5d15c"
      },
      "source": [
        "# let us calculate the value of the Jacobian at (0,0)\n",
        "jacobianVector.subs([(x,0), (y,0)])"
      ],
      "execution_count": 37,
      "outputs": [
        {
          "output_type": "execute_result",
          "data": {
            "text/latex": "$\\displaystyle \\left[\\begin{matrix}0 & 0\\end{matrix}\\right]$",
            "text/plain": [
              "[0  0]"
            ]
          },
          "metadata": {
            "tags": []
          },
          "execution_count": 37
        }
      ]
    },
    {
      "cell_type": "code",
      "metadata": {
        "jupyter": {
          "outputs_hidden": false
        },
        "colab": {
          "base_uri": "https://localhost:8080/",
          "height": 58
        },
        "id": "hJkqfzLZahpE",
        "outputId": "95caca66-453f-4e70-9a45-5aa12ae030a7"
      },
      "source": [
        "# let us calculate the value of the hessian at (0,0)\n",
        "Hessian1.subs([(x,0),(y,0)])"
      ],
      "execution_count": 38,
      "outputs": [
        {
          "output_type": "execute_result",
          "data": {
            "text/latex": "$\\displaystyle \\left[\\begin{matrix}2 & 0\\\\0 & 2\\end{matrix}\\right]$",
            "text/plain": [
              "⎡2  0⎤\n",
              "⎢    ⎥\n",
              "⎣0  2⎦"
            ]
          },
          "metadata": {
            "tags": []
          },
          "execution_count": 38
        }
      ]
    },
    {
      "cell_type": "code",
      "metadata": {
        "jupyter": {
          "outputs_hidden": false
        },
        "colab": {
          "base_uri": "https://localhost:8080/",
          "height": 37
        },
        "id": "o8oEdhmGahpF",
        "outputId": "c6b0db7b-f2ec-4510-d193-8c47d991c783"
      },
      "source": [
        "# then we calculate the determinant of the Hessian using Sympy\n",
        "Hessian1.det()"
      ],
      "execution_count": 39,
      "outputs": [
        {
          "output_type": "execute_result",
          "data": {
            "image/png": "[encoded data removed]",
            "text/latex": "$\\displaystyle 4$",
            "text/plain": [
              "4"
            ]
          },
          "metadata": {
            "tags": []
          },
          "execution_count": 39
        }
      ]
    },
    {
      "cell_type": "markdown",
      "metadata": {
        "id": "FZZK-79dj0iE"
      },
      "source": [
        "However, if you hadn't known what function we were dealing with and calculated the value of the Jacobian at the point (0,0), you'd have seen that the gradient vector was also 0. But how would you know whether this thing was a maximum or a minimum at that point? You could, of course, go and check some other point and see if it was above or below, but this isn't very robust. \n",
        "\n",
        "Instead, we can look at the Hessian, which in this simple case is no longer even a function of x or y. Its determinant is clearly just 2 times 2 minus 0 times 0, which is 4. The power of the Hessian is, \n",
        "\n",
        "____firstly, that if its determinant is positive, ===> we know we are dealing with either a maximum or a minimum. \n",
        "\n",
        "____Secondly, we then just look at the first term of the hessian matrix, which is sitting at the top left-hand corner of the Hessian. \n",
        "\n",
        "If this guy is also positive, ===> we know we've got a minimum, as in this particular case. \n",
        "\n",
        "Whereas, if it's negative, ====> we've got a maximum. \n",
        "\n",
        "____Lastly, slightly modifying our function (as in the below cell) to include a minus sign and recalculating our Jacobian and our Hessian, and our Hessian determinant, we now see the third interesting case. This time, our Hessian determinant is negative. ===>  So we know that we're not dealing with a maximum or a minimum. But clearly at this point, (0,0), the gradient is flat.\n",
        "\n",
        "So what's going on? Well, if you look at the animation, what we've got here is a location with 0 gradient, but with slopes coming down towards it in one direction, but up towards it in the other. We call this kind of feature as saddle point, and they can also cause a lot of confusion when searching for a peak"
      ]
    },
    {
      "cell_type": "code",
      "metadata": {
        "jupyter": {
          "outputs_hidden": false
        },
        "colab": {
          "base_uri": "https://localhost:8080/",
          "height": 70
        },
        "id": "tc_wOHRoahpF",
        "outputId": "8ca9d6b7-da20-45ae-b731-ff8af8b8f10f"
      },
      "source": [
        "# recalculation after changing the function\n",
        "f=x**2-y**2\n",
        "\n",
        "jacobianVector=Matrix([[diff(f,x),diff(f,y)]])\n",
        "print(jacobianVector)\n",
        "Hessian1=Matrix([[diff(jacobianVector[0,0],x), diff(jacobianVector[0,0],y)],\\\n",
        "                 [diff(jacobianVector[0,1],x), diff(jacobianVector[0,1],y)]])\n",
        "print(Hessian1)\n",
        "Hessian1.det()"
      ],
      "execution_count": 41,
      "outputs": [
        {
          "output_type": "stream",
          "text": [
            "Matrix([[2*x, -2*y]])\n",
            "Matrix([[2, 0], [0, -2]])\n"
          ],
          "name": "stdout"
        },
        {
          "output_type": "execute_result",
          "data": {
            "image/png": "[encoded data removed]",
            "text/latex": "$\\displaystyle -4$",
            "text/plain": [
              "-4"
            ]
          },
          "metadata": {
            "tags": []
          },
          "execution_count": 41
        }
      ]
    },
    {
      "cell_type": "markdown",
      "metadata": {
        "id": "cpBN3msEkUJv"
      },
      "source": [
        "We've discussed how to think about two dimensional functions as landscapes. And we've also seen that we can construct Jacobian vectors which tell us both the direction and the magnitude of the gradient at each point in space. Last part, we added one further tool to our toolbox, which allowed us to double check what kind of feature we were standing on, when we landed on a point with a 0 gradient. These concepts will all be very useful to develop your understanding of optimisation problems, and have also let you see why multivariate calculus is worth knowing."
      ]
    }
  ]
}
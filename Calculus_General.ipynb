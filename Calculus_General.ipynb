{
  "nbformat": 4,
  "nbformat_minor": 0,
  "metadata": {
    "kernelspec": {
      "display_name": "Python 3",
      "language": "python",
      "name": "python3"
    },
    "language_info": {
      "codemirror_mode": {
        "name": "ipython",
        "version": 3
      },
      "file_extension": ".py",
      "mimetype": "text/x-python",
      "name": "python",
      "nbconvert_exporter": "python",
      "pygments_lexer": "ipython3",
      "version": "3.6.2"
    },
    "colab": {
      "name": "Calculus_General.ipynb",
      "provenance": []
    }
  },
  "cells": [
    {
      "cell_type": "markdown",
      "metadata": {
        "id": "SA_9Jtm5zpxt"
      },
      "source": [
        "\n",
        "<h1 align=center> Calculus: general introduction</h1>\n",
        "\n"
      ]
    },
    {
      "cell_type": "markdown",
      "metadata": {
        "id": "VdLwKMAC0IAj"
      },
      "source": [
        "This course is developed by Dr. Mohamed Gabr (gbrbreen2@gmail.com) as an introduction to mathematics for AI. The course focuses on using Python for Calculus using Sympy."
      ]
    },
    {
      "cell_type": "markdown",
      "metadata": {
        "id": "ECe_5nF9pqVQ"
      },
      "source": [
        "What is SymPy? SymPy is a Python library for symbolic mathematics. It aims become a full featured computer algebra system that can compete directly with commercial alternatives (Mathematica, Maple) while keeping the code as simple as possible in order to be comprehensible and easily extensible. SymPy is written entirely in Python and does not require any external libraries."
      ]
    },
    {
      "cell_type": "markdown",
      "metadata": {
        "id": "lj1IgUiTn41V"
      },
      "source": [
        "# Using Sympy as a calculator"
      ]
    },
    {
      "cell_type": "markdown",
      "metadata": {
        "id": "nepTiI_opz0O"
      },
      "source": [
        "SymPy defines three numerical types: Real, Rational and Integer.The Rational class represents a rational number as a pair of two Integers: the numerator and the denominator, so Rational(1,2) represents 1/2, Rational(5,2) 5/2 and so on:"
      ]
    },
    {
      "cell_type": "code",
      "metadata": {
        "colab": {
          "base_uri": "https://localhost:8080/"
        },
        "id": "wFmhR5Xsn41Y",
        "outputId": "8b134fa8-e5c1-438a-b24c-aa9fe06a7f9a"
      },
      "source": [
        "from sympy import *\n",
        "\n",
        "rationalNumber=Rational(1,2) # note that sympy is case sensitive\n",
        "print(rationalNumber)\n",
        "print(rationalNumber*2)"
      ],
      "execution_count": 1,
      "outputs": [
        {
          "output_type": "stream",
          "text": [
            "1/2\n",
            "1\n"
          ],
          "name": "stdout"
        }
      ]
    },
    {
      "cell_type": "markdown",
      "metadata": {
        "id": "w-dLuWnyqD-j"
      },
      "source": [
        "SymPy uses mpmath in the background, which makes it possible to perform computations using arbitrary-precision arithmetic. That way, some special constants, like e, pi, oo (Infinity), are treated as symbols and can be evaluated with arbitrary precision:"
      ]
    },
    {
      "cell_type": "code",
      "metadata": {
        "colab": {
          "base_uri": "https://localhost:8080/"
        },
        "id": "a1Dk0wzEn41a",
        "outputId": "7603ba5b-a8aa-4e5c-daf0-44b86e3f3a60"
      },
      "source": [
        "from sympy import *\n",
        "print(pi**2)\n",
        "print(pi.evalf())\n",
        "print((pi+exp(1)).evalf())\n",
        "print(oo > 99999)\n",
        "print(oo + 1)"
      ],
      "execution_count": 3,
      "outputs": [
        {
          "output_type": "stream",
          "text": [
            "pi**2\n",
            "3.14159265358979\n",
            "5.85987448204884\n",
            "True\n",
            "oo\n"
          ],
          "name": "stdout"
        }
      ]
    },
    {
      "cell_type": "markdown",
      "metadata": {
        "id": "sy91hFY5n41b"
      },
      "source": [
        "# Symbols"
      ]
    },
    {
      "cell_type": "markdown",
      "metadata": {
        "id": "xjq2kXZrqNwO"
      },
      "source": [
        "In contrast to other Computer Algebra Systems, in SymPy you have to declare symbolic variables explicitly:\n",
        "\n",
        "Symbols can now be manipulated using some of python operators: +, -, *, ** (arithmetic), &, |, ~ , >>, << (boolean)."
      ]
    },
    {
      "cell_type": "code",
      "metadata": {
        "collapsed": true,
        "id": "_glgh9TOn41e"
      },
      "source": [
        "from sympy import *\n",
        "x = Symbol('x')# note that S is captial\n",
        "y = Symbol('y')"
      ],
      "execution_count": 80,
      "outputs": []
    },
    {
      "cell_type": "code",
      "metadata": {
        "colab": {
          "base_uri": "https://localhost:8080/",
          "height": 38
        },
        "id": "pWfVysH4n41f",
        "outputId": "4f90f4e3-b18d-4912-bb82-ba7e7b52d91e"
      },
      "source": [
        "x+y+x-y"
      ],
      "execution_count": 6,
      "outputs": [
        {
          "output_type": "execute_result",
          "data": {
            "text/latex": "$\\displaystyle 2 x$",
            "text/plain": [
              "2*x"
            ]
          },
          "metadata": {
            "tags": []
          },
          "execution_count": 6
        }
      ]
    },
    {
      "cell_type": "code",
      "metadata": {
        "colab": {
          "base_uri": "https://localhost:8080/",
          "height": 39
        },
        "id": "Ximriwzkn41g",
        "outputId": "89df0a59-1c25-4741-a059-9b98b65f3dbe"
      },
      "source": [
        "(x+y)**2"
      ],
      "execution_count": 7,
      "outputs": [
        {
          "output_type": "execute_result",
          "data": {
            "text/latex": "$\\displaystyle \\left(x + y\\right)^{2}$",
            "text/plain": [
              "(x + y)**2"
            ]
          },
          "metadata": {
            "tags": []
          },
          "execution_count": 7
        }
      ]
    },
    {
      "cell_type": "markdown",
      "metadata": {
        "id": "AZM62QWfn41g"
      },
      "source": [
        "# Algebraic manipulations (Handling Algebra symbols)"
      ]
    },
    {
      "cell_type": "markdown",
      "metadata": {
        "id": "JoGhu4uiqV39"
      },
      "source": [
        "Using SymPy, you can expand an algebraic expression. It will try to denest powers and multiplications:"
      ]
    },
    {
      "cell_type": "code",
      "metadata": {
        "colab": {
          "base_uri": "https://localhost:8080/",
          "height": 38
        },
        "id": "g-ptGy8Nn41h",
        "outputId": "b9af48e9-5333-4055-e388-d3e9876359a8"
      },
      "source": [
        "from sympy import *\n",
        "\n",
        "expand((x+y)**2)"
      ],
      "execution_count": 9,
      "outputs": [
        {
          "output_type": "execute_result",
          "data": {
            "text/latex": "$\\displaystyle x^{2} + 2 x y + y^{2}$",
            "text/plain": [
              "x**2 + 2*x*y + y**2"
            ]
          },
          "metadata": {
            "tags": []
          },
          "execution_count": 9
        }
      ]
    },
    {
      "cell_type": "code",
      "metadata": {
        "colab": {
          "base_uri": "https://localhost:8080/",
          "height": 38
        },
        "id": "McjOeRN3n41h",
        "outputId": "9a3593bb-b437-41a4-9331-655621c154c1"
      },
      "source": [
        "expand((x+y)**3)"
      ],
      "execution_count": 10,
      "outputs": [
        {
          "output_type": "execute_result",
          "data": {
            "text/latex": "$\\displaystyle x^{3} + 3 x^{2} y + 3 x y^{2} + y^{3}$",
            "text/plain": [
              "x**3 + 3*x**2*y + 3*x*y**2 + y**3"
            ]
          },
          "metadata": {
            "tags": []
          },
          "execution_count": 10
        }
      ]
    },
    {
      "cell_type": "code",
      "metadata": {
        "colab": {
          "base_uri": "https://localhost:8080/",
          "height": 38
        },
        "id": "72Rgh8x4n41i",
        "outputId": "5e5278eb-bc4a-417f-9b71-f63683be0575"
      },
      "source": [
        "expand(x+y, complex=True)"
      ],
      "execution_count": 11,
      "outputs": [
        {
          "output_type": "execute_result",
          "data": {
            "text/latex": "$\\displaystyle \\operatorname{re}{\\left(x\\right)} + \\operatorname{re}{\\left(y\\right)} + i \\operatorname{im}{\\left(x\\right)} + i \\operatorname{im}{\\left(y\\right)}$",
            "text/plain": [
              "re(x) + re(y) + I*im(x) + I*im(y)"
            ]
          },
          "metadata": {
            "tags": []
          },
          "execution_count": 11
        }
      ]
    },
    {
      "cell_type": "code",
      "metadata": {
        "colab": {
          "base_uri": "https://localhost:8080/",
          "height": 38
        },
        "id": "G46YxVGFn41i",
        "outputId": "3862b1a5-a065-4e1c-c091-d10c0b341a1e"
      },
      "source": [
        "expand(cos(x+y), trig=True)"
      ],
      "execution_count": 12,
      "outputs": [
        {
          "output_type": "execute_result",
          "data": {
            "text/latex": "$\\displaystyle - \\sin{\\left(x \\right)} \\sin{\\left(y \\right)} + \\cos{\\left(x \\right)} \\cos{\\left(y \\right)}$",
            "text/plain": [
              "-sin(x)*sin(y) + cos(x)*cos(y)"
            ]
          },
          "metadata": {
            "tags": []
          },
          "execution_count": 12
        }
      ]
    },
    {
      "cell_type": "markdown",
      "metadata": {
        "id": "6Zhk1cj8n41i"
      },
      "source": [
        "# Simplification"
      ]
    },
    {
      "cell_type": "code",
      "metadata": {
        "colab": {
          "base_uri": "https://localhost:8080/",
          "height": 38
        },
        "id": "9MBukpAvn41i",
        "outputId": "9d1d5424-65c6-40a1-e914-96a222b41e95"
      },
      "source": [
        "simplify((x+x*y)/x)"
      ],
      "execution_count": 13,
      "outputs": [
        {
          "output_type": "execute_result",
          "data": {
            "text/latex": "$\\displaystyle y + 1$",
            "text/plain": [
              "y + 1"
            ]
          },
          "metadata": {
            "tags": []
          },
          "execution_count": 13
        }
      ]
    },
    {
      "cell_type": "markdown",
      "metadata": {
        "id": "ny4IiblKn41j"
      },
      "source": [
        "# Expanding"
      ]
    },
    {
      "cell_type": "code",
      "metadata": {
        "colab": {
          "base_uri": "https://localhost:8080/"
        },
        "id": "YgoiqNrUn41j",
        "outputId": "d43bbb98-ef0d-4150-8122-b9081111060c"
      },
      "source": [
        "# يستخدم لحل المعادلات وإزالة الأقواس\n",
        "print(expand((x+2)*(3*x-3)))"
      ],
      "execution_count": 14,
      "outputs": [
        {
          "output_type": "stream",
          "text": [
            "3*x**2 + 3*x - 6\n"
          ],
          "name": "stdout"
        }
      ]
    },
    {
      "cell_type": "markdown",
      "metadata": {
        "id": "n0-0jguun41j"
      },
      "source": [
        "# printing in a human-readable way"
      ]
    },
    {
      "cell_type": "code",
      "metadata": {
        "colab": {
          "base_uri": "https://localhost:8080/",
          "height": 38
        },
        "id": "O0lH8Abun41k",
        "outputId": "79ab7424-f25f-4942-f598-7c493b30050c"
      },
      "source": [
        "init_printing()\n",
        "3*x**2 + 3*x - 6"
      ],
      "execution_count": 15,
      "outputs": [
        {
          "output_type": "execute_result",
          "data": {
            "image/png": "[encoded data removed]",
            "text/latex": "$\\displaystyle 3 x^{2} + 3 x - 6$",
            "text/plain": [
              "   2          \n",
              "3⋅x  + 3⋅x - 6"
            ]
          },
          "metadata": {
            "tags": []
          },
          "execution_count": 15
        }
      ]
    },
    {
      "cell_type": "code",
      "metadata": {
        "colab": {
          "base_uri": "https://localhost:8080/",
          "height": 59
        },
        "id": "Exr4SHcen41k",
        "outputId": "b09b1ce3-31db-4ace-bf79-12d403d6859e"
      },
      "source": [
        "Integral(sqrt(1/x),x)\n"
      ],
      "execution_count": 16,
      "outputs": [
        {
          "output_type": "execute_result",
          "data": {
            "image/png": "[encoded data removed]",
            "text/latex": "$\\displaystyle \\int \\sqrt{\\frac{1}{x}}\\, dx$",
            "text/plain": [
              "⌠           \n",
              "⎮     ___   \n",
              "⎮    ╱ 1    \n",
              "⎮   ╱  ─  dx\n",
              "⎮ ╲╱   x    \n",
              "⌡           "
            ]
          },
          "metadata": {
            "tags": []
          },
          "execution_count": 16
        }
      ]
    },
    {
      "cell_type": "markdown",
      "metadata": {
        "id": "yyRHZBChn41k"
      },
      "source": [
        "# Logarithm"
      ]
    },
    {
      "cell_type": "markdown",
      "metadata": {
        "id": "q-iMYA30qnY-"
      },
      "source": [
        "How many 2s do we multiply to get 8? ==>log2(8) = 3 ==> 2 with the exponent of (raised to the power of) 3 equals 8 So, 2 is called the logarithm base.\n",
        "\n",
        "Sometimes **a logarithm is written without a base**, like this: log(100) ==> This usually means that the base is really 10. It is called a \"common logarithm\". Engineers love to use it. On a calculator, it is the \"log\" button. It is how many times we need to use 10 in a multiplication, to get our desired number.\n",
        "\n",
        "**log(1000) = log10(1000) = 3** ==> 10 with the exponent of  (raised to the power of) 3 equals 1000\n",
        "\n",
        "Another **base that is often used is e (Euler's Number) which is about 2.71828**. This is called a \"natural logarithm\". Mathematicians use this one a lot. On a calculator it is the \"ln\" button. It is how many times we need to use \"e\" in a multiplication, to get our desired number.\n",
        "\n",
        "**ln(7.389) = loge(7.389) ≈ 2**\n",
        "\n",
        "A **negative logarithm** means how many times to divide by the number.\n",
        "\n",
        "**log8(0.125) = −1** ==> 8 with exponent of (raised to the power of) -1 equals 0.125\n",
        "\n",
        "**log10(0.001)= -3** ==>10 with exponent of (raised to the power of)-3 equals .001"
      ]
    },
    {
      "cell_type": "code",
      "metadata": {
        "colab": {
          "base_uri": "https://localhost:8080/"
        },
        "id": "GrsdhdNBn41l",
        "outputId": "cba8f118-4745-40b9-a133-d0d53c04d4c0"
      },
      "source": [
        "# Computes the base-b logarithm of x, logb(x). If b is unspecified, log() computes the natural (base e) logarithm and is \n",
        "# equivalent to ln(). In general, the base b logarithm is defined in terms of the natural logarithm as logb(x)=ln(x)/ln(b).\n",
        "\n",
        "from sympy import *\n",
        "from mpmath import *\n",
        "mp.dps = 15; mp.pretty = True\n",
        "\n",
        "log(1)# ==> the base is euler number 2.71828 ==>2.71828 with exponents of 0 equals 1"
      ],
      "execution_count": 18,
      "outputs": [
        {
          "output_type": "execute_result",
          "data": {
            "text/plain": [
              "0.0"
            ]
          },
          "metadata": {
            "tags": []
          },
          "execution_count": 18
        }
      ]
    },
    {
      "cell_type": "code",
      "metadata": {
        "colab": {
          "base_uri": "https://localhost:8080/"
        },
        "id": "zxN7xPvYn41l",
        "outputId": "2f26877b-0b07-47a5-9960-36def04a462c"
      },
      "source": [
        "log(2)# # ==> the base is euler number 2.71828 ==>2.71828 with exponents of 693147180559945 equals 2"
      ],
      "execution_count": 19,
      "outputs": [
        {
          "output_type": "execute_result",
          "data": {
            "text/plain": [
              "0.693147180559945"
            ]
          },
          "metadata": {
            "tags": []
          },
          "execution_count": 19
        }
      ]
    },
    {
      "cell_type": "code",
      "metadata": {
        "colab": {
          "base_uri": "https://localhost:8080/"
        },
        "id": "95Hyw-Ssn41l",
        "outputId": "996e58f2-4360-4313-985d-bd7e349f618d"
      },
      "source": [
        "log(1000,10) # ==> 10 is the base"
      ],
      "execution_count": 20,
      "outputs": [
        {
          "output_type": "execute_result",
          "data": {
            "text/plain": [
              "3.0"
            ]
          },
          "metadata": {
            "tags": []
          },
          "execution_count": 20
        }
      ]
    },
    {
      "cell_type": "code",
      "metadata": {
        "colab": {
          "base_uri": "https://localhost:8080/"
        },
        "id": "hZnEMWC3n41l",
        "outputId": "6853ea96-b5ac-4263-db89-7f8211903ea9"
      },
      "source": [
        "log(625,5)# the base is 5"
      ],
      "execution_count": 21,
      "outputs": [
        {
          "output_type": "execute_result",
          "data": {
            "text/plain": [
              "4.0"
            ]
          },
          "metadata": {
            "tags": []
          },
          "execution_count": 21
        }
      ]
    },
    {
      "cell_type": "markdown",
      "metadata": {
        "id": "5GAsiPSzn41l"
      },
      "source": [
        "# calculus"
      ]
    },
    {
      "cell_type": "code",
      "metadata": {
        "collapsed": true,
        "id": "o-wB26vTn41m"
      },
      "source": [
        ""
      ],
      "execution_count": 22,
      "outputs": []
    },
    {
      "cell_type": "markdown",
      "metadata": {
        "id": "SStGg1_Vrh-f"
      },
      "source": [
        "## limits\n",
        "\n",
        "limit tells us the value that a function approaches as that function's inputs get closer and closer to some number.\n",
        "\n",
        "Limits are easy to use in sympy, they follow the syntax limit(function, variable, point), so to compute the limit of f(x) as x -> 0 (x approaches zero) , you would issue limit(f, x, 0):"
      ]
    },
    {
      "cell_type": "code",
      "metadata": {
        "colab": {
          "base_uri": "https://localhost:8080/"
        },
        "id": "44wwSjhnn41m",
        "outputId": "93ab2725-ac08-41d2-ecd2-10d0608d0f87"
      },
      "source": [
        "from sympy import *\n",
        "x=Symbol('x')\n",
        "print(limit(1/x, x, 0))\n",
        "print(limit(x**x, x, 0))\n",
        "print(limit(sin(x)/x, x, 0))\n",
        "\n",
        "print(limit(x, x, oo))"
      ],
      "execution_count": 81,
      "outputs": [
        {
          "output_type": "stream",
          "text": [
            "oo\n",
            "1\n",
            "1\n",
            "oo\n"
          ],
          "name": "stdout"
        }
      ]
    },
    {
      "cell_type": "markdown",
      "metadata": {
        "id": "fXoB2Qxxn41m"
      },
      "source": [
        "# Differentiation"
      ]
    },
    {
      "cell_type": "markdown",
      "metadata": {
        "id": "OSytduBrr3Lm"
      },
      "source": [
        "In mathematics, differential calculus is a subfield of calculus concerned with the study of the rates at which quantities change. It is one of the two traditional divisions of calculus, the other being integral calculus, the study of the area beneath a curve.\n",
        "\n",
        "You can differentiate any SymPy expression using diff(func, var)."
      ]
    },
    {
      "cell_type": "code",
      "metadata": {
        "colab": {
          "base_uri": "https://localhost:8080/"
        },
        "id": "ymfqrllEn41m",
        "outputId": "846c75a6-6901-4750-ad5e-0b5a330cfcb4"
      },
      "source": [
        "from sympy import *\n",
        "\n",
        "print(diff(sin(x), x))\n",
        "print(diff(sin(2*x), x))\n",
        "print(diff(tan(x), x))\n",
        "\n",
        "print(diff(x**x, x))\n",
        "print(diff((3*x)+2,x))\n",
        "print(limit((3*x)+2,x,0))# note the difference between limit and diff\n",
        "\n",
        "print(diff(5*x**2,x))"
      ],
      "execution_count": 26,
      "outputs": [
        {
          "output_type": "stream",
          "text": [
            "cos(x)\n",
            "2*cos(2*x)\n",
            "tan(x)**2 + 1\n",
            "x**x*(log(x) + 1)\n",
            "3\n",
            "2\n",
            "10*x\n"
          ],
          "name": "stdout"
        }
      ]
    },
    {
      "cell_type": "code",
      "metadata": {
        "colab": {
          "base_uri": "https://localhost:8080/",
          "height": 314
        },
        "id": "JfUw42vKn41n",
        "outputId": "db987f7f-1867-4dec-d4fe-0f94c09969b3"
      },
      "source": [
        "from sympy import plot\n",
        "plot(sin(x), (x,0, 10), ylabel='Speed')"
      ],
      "execution_count": 27,
      "outputs": [
        {
          "output_type": "display_data",
          "data": {
            "image/png": "[encoded data removed]",
            "text/plain": [
              "<Figure size 432x288 with 1 Axes>"
            ]
          },
          "metadata": {
            "tags": [],
            "needs_background": "light"
          }
        },
        {
          "output_type": "execute_result",
          "data": {
            "text/plain": [
              "<sympy.plotting.plot.Plot at 0x7ff7ada4dc90>"
            ]
          },
          "metadata": {
            "tags": []
          },
          "execution_count": 27
        }
      ]
    },
    {
      "cell_type": "code",
      "metadata": {
        "colab": {
          "base_uri": "https://localhost:8080/",
          "height": 297
        },
        "id": "fnUofIYcn41n",
        "outputId": "c9519397-9970-43c0-b094-9f2b55310515"
      },
      "source": [
        "#plot(sin(x),diff(sin(x)), (x,0, 10), ylabel='Speed')\n",
        "myPlot1= plot((sin(x), (x,0, 50)),(diff(sin(x)),(x,0, 50)),ylabel='speed', title='sin(x) and its derivative', show=False)\n",
        "myPlot1[0].line_color = 'red'# the color of the original function\n",
        "myPlot1[1].line_color = 'green'# the color of the first-level differential/derivative of the original function\n",
        "myPlot1.show()"
      ],
      "execution_count": 28,
      "outputs": [
        {
          "output_type": "display_data",
          "data": {
            "image/png": "[encoded data removed]",
            "text/plain": [
              "<Figure size 432x288 with 1 Axes>"
            ]
          },
          "metadata": {
            "tags": [],
            "needs_background": "light"
          }
        }
      ]
    },
    {
      "cell_type": "code",
      "metadata": {
        "colab": {
          "base_uri": "https://localhost:8080/"
        },
        "id": "Z41wJCmin41n",
        "outputId": "d9f92fba-e1a9-491c-926f-072860606e4c"
      },
      "source": [
        "print(diff(1/x,x))"
      ],
      "execution_count": 29,
      "outputs": [
        {
          "output_type": "stream",
          "text": [
            "-1/x**2\n"
          ],
          "name": "stdout"
        }
      ]
    },
    {
      "cell_type": "code",
      "metadata": {
        "colab": {
          "base_uri": "https://localhost:8080/"
        },
        "id": "W-kSvnIxn41n",
        "outputId": "1a45b03e-1358-4047-8f7c-1d2335b754bc"
      },
      "source": [
        "print(diff(diff(x),x))"
      ],
      "execution_count": 30,
      "outputs": [
        {
          "output_type": "stream",
          "text": [
            "0\n"
          ],
          "name": "stdout"
        }
      ]
    },
    {
      "cell_type": "code",
      "metadata": {
        "colab": {
          "base_uri": "https://localhost:8080/"
        },
        "id": "kRaHrqMDn41n",
        "outputId": "a957d4dd-5120-4245-e701-22739c96dcd8"
      },
      "source": [
        "print(diff(0,x))"
      ],
      "execution_count": 31,
      "outputs": [
        {
          "output_type": "stream",
          "text": [
            "0\n"
          ],
          "name": "stdout"
        }
      ]
    },
    {
      "cell_type": "markdown",
      "metadata": {
        "id": "kWC-WVfZsPv_"
      },
      "source": [
        "The number e is a famous irrational number, and is one of the most important numbers in mathematics. The first few digits are: \n",
        "\n",
        "2.7182818284590452353602874713527 (and more ...)\n",
        "\n",
        "It is often called Euler's number after Leonhard Euler (pronounced \"Oiler\")."
      ]
    },
    {
      "cell_type": "code",
      "metadata": {
        "colab": {
          "base_uri": "https://localhost:8080/"
        },
        "id": "xFRdnzMXn41o",
        "outputId": "e6e387ee-2076-4742-fcc2-44412abdf6fa"
      },
      "source": [
        "e=2.7182818284590452353602874713527\n",
        "print(diff(e**x,x))\n",
        "print(diff(1.0*2.71828182845905**x,x)) # it keeps giving the same result whatever the differentiation level is (1,2,3,4,....)"
      ],
      "execution_count": 33,
      "outputs": [
        {
          "output_type": "stream",
          "text": [
            "1.0*2.71828182845905**x\n",
            "1.0*2.71828182845905**x\n"
          ],
          "name": "stdout"
        }
      ]
    },
    {
      "cell_type": "code",
      "metadata": {
        "colab": {
          "base_uri": "https://localhost:8080/"
        },
        "id": "tWo9FR_rn41o",
        "outputId": "5b2601a0-a50a-4c2f-8167-28a14feaac17"
      },
      "source": [
        "print(diff(sin(x),x))# we begin by sin(x) and after 4 times of differentiation, we reach it "
      ],
      "execution_count": 34,
      "outputs": [
        {
          "output_type": "stream",
          "text": [
            "cos(x)\n"
          ],
          "name": "stdout"
        }
      ]
    },
    {
      "cell_type": "code",
      "metadata": {
        "colab": {
          "base_uri": "https://localhost:8080/"
        },
        "id": "z8Qy1zPyn41o",
        "outputId": "ef87347d-5ac2-40aa-fb8b-faf252035d43"
      },
      "source": [
        "print(diff(cos(x),x))"
      ],
      "execution_count": 35,
      "outputs": [
        {
          "output_type": "stream",
          "text": [
            "-sin(x)\n"
          ],
          "name": "stdout"
        }
      ]
    },
    {
      "cell_type": "code",
      "metadata": {
        "colab": {
          "base_uri": "https://localhost:8080/"
        },
        "id": "AfwF6I4Wn41o",
        "outputId": "73f0d646-8dc7-4651-ac63-70c0e6f12091"
      },
      "source": [
        "print(diff(-sin(x),x))"
      ],
      "execution_count": 36,
      "outputs": [
        {
          "output_type": "stream",
          "text": [
            "-cos(x)\n"
          ],
          "name": "stdout"
        }
      ]
    },
    {
      "cell_type": "code",
      "metadata": {
        "colab": {
          "base_uri": "https://localhost:8080/"
        },
        "id": "4OQGvk69n41p",
        "outputId": "b0236a47-ea70-42b2-8b1a-02ef82affd1e"
      },
      "source": [
        "print(diff(-cos(x),x))# the result is sin(x) after 4 times of differentiation"
      ],
      "execution_count": 37,
      "outputs": [
        {
          "output_type": "stream",
          "text": [
            "sin(x)\n"
          ],
          "name": "stdout"
        }
      ]
    },
    {
      "cell_type": "code",
      "metadata": {
        "colab": {
          "base_uri": "https://localhost:8080/"
        },
        "id": "sPyG1Lvfn41p",
        "outputId": "017e7093-e09f-44a9-9779-d8157595cfcf"
      },
      "source": [
        "# Higher derivatives \n",
        "print(diff(sin(x),x,4))# getting the 4th derivative.... and we can see that it is equal as above"
      ],
      "execution_count": 39,
      "outputs": [
        {
          "output_type": "stream",
          "text": [
            "sin(x)\n"
          ],
          "name": "stdout"
        }
      ]
    },
    {
      "cell_type": "markdown",
      "metadata": {
        "id": "xpVYY0srn41p"
      },
      "source": [
        "# Integration (Integral calculus)"
      ]
    },
    {
      "cell_type": "code",
      "metadata": {
        "colab": {
          "base_uri": "https://localhost:8080/",
          "height": 38
        },
        "id": "Hr_dFSiqn41p",
        "outputId": "1174f893-f2ba-4e7d-de35-842096f09c7e"
      },
      "source": [
        "from sympy import *\n",
        "init_printing()\n",
        "\n",
        "integrate(6 * x ** 5, x)"
      ],
      "execution_count": 40,
      "outputs": [
        {
          "output_type": "execute_result",
          "data": {
            "image/png": "[encoded data removed]",
            "text/latex": "$\\displaystyle x^{6}$",
            "text/plain": [
              " 6\n",
              "x "
            ]
          },
          "metadata": {
            "tags": []
          },
          "execution_count": 40
        }
      ]
    },
    {
      "cell_type": "code",
      "metadata": {
        "colab": {
          "base_uri": "https://localhost:8080/",
          "height": 38
        },
        "id": "jmPMwLz6n41p",
        "outputId": "3f52b9ef-eaba-40d6-f66f-456e3615073a"
      },
      "source": [
        "integrate(sin(x), x)"
      ],
      "execution_count": 41,
      "outputs": [
        {
          "output_type": "execute_result",
          "data": {
            "image/png": "[encoded data removed]",
            "text/latex": "$\\displaystyle - \\cos{\\left(x \\right)}$",
            "text/plain": [
              "-cos(x)"
            ]
          },
          "metadata": {
            "tags": []
          },
          "execution_count": 41
        }
      ]
    },
    {
      "cell_type": "code",
      "metadata": {
        "colab": {
          "base_uri": "https://localhost:8080/",
          "height": 38
        },
        "id": "QZ1mTwern41q",
        "outputId": "697d3a49-42e2-4612-83b4-e53dc6cd82a8"
      },
      "source": [
        "integrate(log(x), x)"
      ],
      "execution_count": 42,
      "outputs": [
        {
          "output_type": "execute_result",
          "data": {
            "image/png": "[encoded data removed]",
            "text/latex": "$\\displaystyle x \\log{\\left(x \\right)} - x$",
            "text/plain": [
              "x⋅log(x) - x"
            ]
          },
          "metadata": {
            "tags": []
          },
          "execution_count": 42
        }
      ]
    },
    {
      "cell_type": "code",
      "metadata": {
        "colab": {
          "base_uri": "https://localhost:8080/",
          "height": 38
        },
        "id": "1flIc8bVn41q",
        "outputId": "c9e15851-fd42-4879-ec78-9a2a4b510f50"
      },
      "source": [
        "integrate(2 * x + sinh(x), x)"
      ],
      "execution_count": 43,
      "outputs": [
        {
          "output_type": "execute_result",
          "data": {
            "image/png": "[encoded data removed]",
            "text/latex": "$\\displaystyle x^{2} + \\cosh{\\left(x \\right)}$",
            "text/plain": [
              " 2          \n",
              "x  + cosh(x)"
            ]
          },
          "metadata": {
            "tags": []
          },
          "execution_count": 43
        }
      ]
    },
    {
      "cell_type": "code",
      "metadata": {
        "colab": {
          "base_uri": "https://localhost:8080/",
          "height": 37
        },
        "id": "xn_qMCqYn41q",
        "outputId": "d17a39ae-1cce-45c7-c6c0-65fa01dff16e"
      },
      "source": [
        "integrate(x**3, (x, -1, 1))"
      ],
      "execution_count": 44,
      "outputs": [
        {
          "output_type": "execute_result",
          "data": {
            "image/png": "[encoded data removed]",
            "text/latex": "$\\displaystyle 0$",
            "text/plain": [
              "0"
            ]
          },
          "metadata": {
            "tags": []
          },
          "execution_count": 44
        }
      ]
    },
    {
      "cell_type": "code",
      "metadata": {
        "colab": {
          "base_uri": "https://localhost:8080/",
          "height": 37
        },
        "id": "ePPCXLe2n41q",
        "outputId": "40610617-3b89-4c54-a87d-ad5d816c2224"
      },
      "source": [
        "integrate(sin(x), (x, 0, pi / 2))"
      ],
      "execution_count": 45,
      "outputs": [
        {
          "output_type": "execute_result",
          "data": {
            "image/png": "[encoded data removed]",
            "text/latex": "$\\displaystyle 1$",
            "text/plain": [
              "1"
            ]
          },
          "metadata": {
            "tags": []
          },
          "execution_count": 45
        }
      ]
    },
    {
      "cell_type": "code",
      "metadata": {
        "colab": {
          "base_uri": "https://localhost:8080/",
          "height": 37
        },
        "id": "ut8RVnrGn41q",
        "outputId": "1f1ede33-feed-4aa9-892d-e805506a0ffa"
      },
      "source": [
        "integrate(exp(-x), (x, 0, oo))"
      ],
      "execution_count": 46,
      "outputs": [
        {
          "output_type": "execute_result",
          "data": {
            "image/png": "[encoded data removed]",
            "text/latex": "$\\displaystyle 1$",
            "text/plain": [
              "1"
            ]
          },
          "metadata": {
            "tags": []
          },
          "execution_count": 46
        }
      ]
    },
    {
      "cell_type": "markdown",
      "metadata": {
        "id": "frPAHprEn41r"
      },
      "source": [
        "# equation solving"
      ]
    },
    {
      "cell_type": "code",
      "metadata": {
        "colab": {
          "base_uri": "https://localhost:8080/",
          "height": 38
        },
        "id": "Hp5XQIQwn41r",
        "outputId": "0db2ef31-d681-475f-df80-00fd968dc286"
      },
      "source": [
        "from sympy import *\n",
        "init_printing()\n",
        "solveset(x ** 4 - 1, x)"
      ],
      "execution_count": 47,
      "outputs": [
        {
          "output_type": "execute_result",
          "data": {
            "image/png": "[encoded data removed]",
            "text/latex": "$\\displaystyle \\left\\{-1, 1, - i, i\\right\\}$",
            "text/plain": [
              "{-1, 1, -ⅈ, ⅈ}"
            ]
          },
          "metadata": {
            "tags": []
          },
          "execution_count": 47
        }
      ]
    },
    {
      "cell_type": "code",
      "metadata": {
        "colab": {
          "base_uri": "https://localhost:8080/",
          "height": 73
        },
        "id": "1bQ7PQXgn41r",
        "outputId": "d08a34c6-45b4-4e75-c100-05785ce1ea61"
      },
      "source": [
        "f = x ** 4 - 3 * x ** 2 + 1\n",
        "print(factor(f))\n",
        "print(solveset(f))\n",
        "factor(f, modulus=5)"
      ],
      "execution_count": 48,
      "outputs": [
        {
          "output_type": "stream",
          "text": [
            "(x**2 - x - 1)*(x**2 + x - 1)\n",
            "FiniteSet(-1/2 + sqrt(5)/2, 1/2 - sqrt(5)/2, 1/2 + sqrt(5)/2, -sqrt(5)/2 - 1/2)\n"
          ],
          "name": "stdout"
        },
        {
          "output_type": "execute_result",
          "data": {
            "image/png": "[encoded data removed]",
            "text/latex": "$\\displaystyle \\left(x - 2\\right)^{2} \\left(x + 2\\right)^{2}$",
            "text/plain": [
              "       2        2\n",
              "(x - 2) ⋅(x + 2) "
            ]
          },
          "metadata": {
            "tags": []
          },
          "execution_count": 48
        }
      ]
    },
    {
      "cell_type": "code",
      "metadata": {
        "colab": {
          "base_uri": "https://localhost:8080/",
          "height": 37
        },
        "id": "Z9jggeSQn41r",
        "outputId": "f684e4f7-570d-450d-c832-02212afb038f"
      },
      "source": [
        "#liner equations\n",
        "solution = solve((x + 5 * y - 2, -3 * x + 6 * y - 15), (x, y))\n",
        "solution[x], solution[y]"
      ],
      "execution_count": 49,
      "outputs": [
        {
          "output_type": "execute_result",
          "data": {
            "image/png": "[encoded data removed]",
            "text/latex": "$\\displaystyle \\left( -3, \\  1\\right)$",
            "text/plain": [
              "(-3, 1)"
            ]
          },
          "metadata": {
            "tags": []
          },
          "execution_count": 49
        }
      ]
    },
    {
      "cell_type": "code",
      "metadata": {
        "colab": {
          "base_uri": "https://localhost:8080/"
        },
        "id": "VtbsEh5On41r",
        "outputId": "cf95e227-ddf4-4d3b-eb4d-feb7aaa07749"
      },
      "source": [
        "# bolean equations\n",
        "# SymPy is also able to solve boolean equations, that is, to decide if a certain boolean expression is satisfiable or not.\n",
        "satisfiable(x&y)"
      ],
      "execution_count": 50,
      "outputs": [
        {
          "output_type": "execute_result",
          "data": {
            "text/plain": [
              "{x: True, y: True}"
            ]
          },
          "metadata": {
            "tags": []
          },
          "execution_count": 50
        }
      ]
    }
  ]
}